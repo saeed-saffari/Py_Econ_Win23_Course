{
 "cells": [
  {
   "cell_type": "markdown",
   "metadata": {},
   "source": [
    "# <center> Pandas 01 <center> "
   ]
  },
  {
   "cell_type": "markdown",
   "metadata": {},
   "source": [
    "<img src = 'https://github.com/saeed-saffari/alzahra-workshop-spr2021/blob/main/lecture/PIC/Pandas.png?raw=true' \n",
    "     width = \"350\"\n",
    "     >"
   ]
  },
  {
   "cell_type": "markdown",
   "metadata": {},
   "source": [
    "# Installation\n",
    "\n",
    "- Conda install pandas\n",
    "- pip install pandas\n",
    "- pip install --upgrade pandas"
   ]
  },
  {
   "cell_type": "markdown",
   "metadata": {},
   "source": [
    "## Imports"
   ]
  },
  {
   "cell_type": "code",
   "execution_count": 1,
   "metadata": {},
   "outputs": [],
   "source": [
    "import numpy as np\n",
    "import matplotlib.pyplot as plt\n",
    "import pandas as pd"
   ]
  },
  {
   "cell_type": "markdown",
   "metadata": {},
   "source": [
    "### Series"
   ]
  },
  {
   "cell_type": "code",
   "execution_count": 3,
   "metadata": {},
   "outputs": [],
   "source": [
    "indeces = ['a', 'b', 'c']\n",
    "my_list = [20,30,41]\n",
    "\n",
    "dictionary_0 = {'a': 20, 'b':30, 'c': 41}  "
   ]
  },
  {
   "cell_type": "code",
   "execution_count": 4,
   "metadata": {},
   "outputs": [
    {
     "data": {
      "text/plain": [
       "0    20\n",
       "1    30\n",
       "2    41\n",
       "dtype: int64"
      ]
     },
     "execution_count": 4,
     "metadata": {},
     "output_type": "execute_result"
    }
   ],
   "source": [
    "pd.Series(data = my_list)"
   ]
  },
  {
   "cell_type": "code",
   "execution_count": 6,
   "metadata": {},
   "outputs": [
    {
     "name": "stdout",
     "output_type": "stream",
     "text": [
      "a    20\n",
      "b    30\n",
      "c    41\n",
      "dtype: int64\n"
     ]
    }
   ],
   "source": [
    "x = pd.Series(data=my_list, index=indeces)\n",
    "print(x)"
   ]
  },
  {
   "cell_type": "code",
   "execution_count": 9,
   "metadata": {},
   "outputs": [
    {
     "data": {
      "text/plain": [
       "30"
      ]
     },
     "execution_count": 9,
     "metadata": {},
     "output_type": "execute_result"
    }
   ],
   "source": [
    "x['b']"
   ]
  },
  {
   "cell_type": "code",
   "execution_count": 10,
   "metadata": {},
   "outputs": [
    {
     "data": {
      "text/plain": [
       "a    20\n",
       "b    30\n",
       "c    41\n",
       "dtype: int64"
      ]
     },
     "execution_count": 10,
     "metadata": {},
     "output_type": "execute_result"
    }
   ],
   "source": [
    "pd.Series(data=dictionary_0)"
   ]
  },
  {
   "cell_type": "markdown",
   "metadata": {},
   "source": [
    "### Sum Series"
   ]
  },
  {
   "cell_type": "code",
   "execution_count": 11,
   "metadata": {},
   "outputs": [],
   "source": [
    "ser1 = pd.Series(data = [10,25,63,13],  index=['IRN', 'USA', 'GER', 'JAP'])\n",
    "ser2 = pd.Series(data = [43,54,61, 12], index=['IRN', 'USA', 'BRZ', 'JAP'])"
   ]
  },
  {
   "cell_type": "code",
   "execution_count": 12,
   "metadata": {},
   "outputs": [
    {
     "data": {
      "text/plain": [
       "IRN    10\n",
       "USA    25\n",
       "GER    63\n",
       "JAP    13\n",
       "dtype: int64"
      ]
     },
     "execution_count": 12,
     "metadata": {},
     "output_type": "execute_result"
    }
   ],
   "source": [
    "ser1"
   ]
  },
  {
   "cell_type": "code",
   "execution_count": 13,
   "metadata": {},
   "outputs": [
    {
     "data": {
      "text/plain": [
       "IRN    43\n",
       "USA    54\n",
       "BRZ    61\n",
       "JAP    12\n",
       "dtype: int64"
      ]
     },
     "execution_count": 13,
     "metadata": {},
     "output_type": "execute_result"
    }
   ],
   "source": [
    "ser2"
   ]
  },
  {
   "cell_type": "code",
   "execution_count": 14,
   "metadata": {},
   "outputs": [
    {
     "data": {
      "text/plain": [
       "BRZ     NaN\n",
       "GER     NaN\n",
       "IRN    53.0\n",
       "JAP    25.0\n",
       "USA    79.0\n",
       "dtype: float64"
      ]
     },
     "execution_count": 14,
     "metadata": {},
     "output_type": "execute_result"
    }
   ],
   "source": [
    "ser1 + ser2"
   ]
  },
  {
   "cell_type": "markdown",
   "metadata": {},
   "source": [
    "### Data frame"
   ]
  },
  {
   "cell_type": "code",
   "execution_count": 22,
   "metadata": {},
   "outputs": [
    {
     "data": {
      "text/html": [
       "<div>\n",
       "<style scoped>\n",
       "    .dataframe tbody tr th:only-of-type {\n",
       "        vertical-align: middle;\n",
       "    }\n",
       "\n",
       "    .dataframe tbody tr th {\n",
       "        vertical-align: top;\n",
       "    }\n",
       "\n",
       "    .dataframe thead th {\n",
       "        text-align: right;\n",
       "    }\n",
       "</style>\n",
       "<table border=\"1\" class=\"dataframe\">\n",
       "  <thead>\n",
       "    <tr style=\"text-align: right;\">\n",
       "      <th></th>\n",
       "      <th>W</th>\n",
       "      <th>X</th>\n",
       "      <th>Y</th>\n",
       "      <th>Z</th>\n",
       "    </tr>\n",
       "  </thead>\n",
       "  <tbody>\n",
       "    <tr>\n",
       "      <th>A</th>\n",
       "      <td>37</td>\n",
       "      <td>47</td>\n",
       "      <td>60</td>\n",
       "      <td>87</td>\n",
       "    </tr>\n",
       "    <tr>\n",
       "      <th>B</th>\n",
       "      <td>9</td>\n",
       "      <td>29</td>\n",
       "      <td>49</td>\n",
       "      <td>81</td>\n",
       "    </tr>\n",
       "    <tr>\n",
       "      <th>C</th>\n",
       "      <td>98</td>\n",
       "      <td>42</td>\n",
       "      <td>92</td>\n",
       "      <td>45</td>\n",
       "    </tr>\n",
       "    <tr>\n",
       "      <th>D</th>\n",
       "      <td>38</td>\n",
       "      <td>42</td>\n",
       "      <td>55</td>\n",
       "      <td>67</td>\n",
       "    </tr>\n",
       "    <tr>\n",
       "      <th>E</th>\n",
       "      <td>96</td>\n",
       "      <td>70</td>\n",
       "      <td>93</td>\n",
       "      <td>19</td>\n",
       "    </tr>\n",
       "  </tbody>\n",
       "</table>\n",
       "</div>"
      ],
      "text/plain": [
       "    W   X   Y   Z\n",
       "A  37  47  60  87\n",
       "B   9  29  49  81\n",
       "C  98  42  92  45\n",
       "D  38  42  55  67\n",
       "E  96  70  93  19"
      ]
     },
     "execution_count": 22,
     "metadata": {},
     "output_type": "execute_result"
    }
   ],
   "source": [
    "df = pd.DataFrame(data = np.random.randint(0,100,(5,4)),\n",
    "                 index=['A', 'B', 'C', 'D', \"E\"], \n",
    "                 columns=['W', 'X', 'Y', 'Z'])\n",
    "df"
   ]
  },
  {
   "cell_type": "markdown",
   "metadata": {},
   "source": [
    "### Columns, index, shape"
   ]
  },
  {
   "cell_type": "code",
   "execution_count": 24,
   "metadata": {},
   "outputs": [
    {
     "data": {
      "text/plain": [
       "Index(['W', 'X', 'Y', 'Z'], dtype='object')"
      ]
     },
     "execution_count": 24,
     "metadata": {},
     "output_type": "execute_result"
    }
   ],
   "source": [
    "df.columns"
   ]
  },
  {
   "cell_type": "code",
   "execution_count": 25,
   "metadata": {},
   "outputs": [
    {
     "data": {
      "text/plain": [
       "Index(['A', 'B', 'C', 'D', 'E'], dtype='object')"
      ]
     },
     "execution_count": 25,
     "metadata": {},
     "output_type": "execute_result"
    }
   ],
   "source": [
    "df.index"
   ]
  },
  {
   "cell_type": "code",
   "execution_count": 26,
   "metadata": {},
   "outputs": [
    {
     "data": {
      "text/plain": [
       "(5, 4)"
      ]
     },
     "execution_count": 26,
     "metadata": {},
     "output_type": "execute_result"
    }
   ],
   "source": [
    "df.shape"
   ]
  },
  {
   "cell_type": "markdown",
   "metadata": {},
   "source": [
    "### Call in table"
   ]
  },
  {
   "cell_type": "code",
   "execution_count": 27,
   "metadata": {},
   "outputs": [
    {
     "data": {
      "text/plain": [
       "A    37\n",
       "B     9\n",
       "C    98\n",
       "D    38\n",
       "E    96\n",
       "Name: W, dtype: int64"
      ]
     },
     "execution_count": 27,
     "metadata": {},
     "output_type": "execute_result"
    }
   ],
   "source": [
    "df['W']"
   ]
  },
  {
   "cell_type": "code",
   "execution_count": 28,
   "metadata": {},
   "outputs": [
    {
     "data": {
      "text/html": [
       "<div>\n",
       "<style scoped>\n",
       "    .dataframe tbody tr th:only-of-type {\n",
       "        vertical-align: middle;\n",
       "    }\n",
       "\n",
       "    .dataframe tbody tr th {\n",
       "        vertical-align: top;\n",
       "    }\n",
       "\n",
       "    .dataframe thead th {\n",
       "        text-align: right;\n",
       "    }\n",
       "</style>\n",
       "<table border=\"1\" class=\"dataframe\">\n",
       "  <thead>\n",
       "    <tr style=\"text-align: right;\">\n",
       "      <th></th>\n",
       "      <th>W</th>\n",
       "      <th>Z</th>\n",
       "    </tr>\n",
       "  </thead>\n",
       "  <tbody>\n",
       "    <tr>\n",
       "      <th>A</th>\n",
       "      <td>37</td>\n",
       "      <td>87</td>\n",
       "    </tr>\n",
       "    <tr>\n",
       "      <th>B</th>\n",
       "      <td>9</td>\n",
       "      <td>81</td>\n",
       "    </tr>\n",
       "    <tr>\n",
       "      <th>C</th>\n",
       "      <td>98</td>\n",
       "      <td>45</td>\n",
       "    </tr>\n",
       "    <tr>\n",
       "      <th>D</th>\n",
       "      <td>38</td>\n",
       "      <td>67</td>\n",
       "    </tr>\n",
       "    <tr>\n",
       "      <th>E</th>\n",
       "      <td>96</td>\n",
       "      <td>19</td>\n",
       "    </tr>\n",
       "  </tbody>\n",
       "</table>\n",
       "</div>"
      ],
      "text/plain": [
       "    W   Z\n",
       "A  37  87\n",
       "B   9  81\n",
       "C  98  45\n",
       "D  38  67\n",
       "E  96  19"
      ]
     },
     "execution_count": 28,
     "metadata": {},
     "output_type": "execute_result"
    }
   ],
   "source": [
    "df[['W', 'Z']]"
   ]
  },
  {
   "cell_type": "code",
   "execution_count": 31,
   "metadata": {},
   "outputs": [
    {
     "data": {
      "text/plain": [
       "A    87\n",
       "B    81\n",
       "C    45\n",
       "D    67\n",
       "E    19\n",
       "Name: Z, dtype: int64"
      ]
     },
     "execution_count": 31,
     "metadata": {},
     "output_type": "execute_result"
    }
   ],
   "source": [
    "df.Z"
   ]
  },
  {
   "cell_type": "markdown",
   "metadata": {},
   "source": [
    "### Create new column"
   ]
  },
  {
   "cell_type": "code",
   "execution_count": 32,
   "metadata": {},
   "outputs": [
    {
     "data": {
      "text/html": [
       "<div>\n",
       "<style scoped>\n",
       "    .dataframe tbody tr th:only-of-type {\n",
       "        vertical-align: middle;\n",
       "    }\n",
       "\n",
       "    .dataframe tbody tr th {\n",
       "        vertical-align: top;\n",
       "    }\n",
       "\n",
       "    .dataframe thead th {\n",
       "        text-align: right;\n",
       "    }\n",
       "</style>\n",
       "<table border=\"1\" class=\"dataframe\">\n",
       "  <thead>\n",
       "    <tr style=\"text-align: right;\">\n",
       "      <th></th>\n",
       "      <th>W</th>\n",
       "      <th>X</th>\n",
       "      <th>Y</th>\n",
       "      <th>Z</th>\n",
       "      <th>NEW</th>\n",
       "    </tr>\n",
       "  </thead>\n",
       "  <tbody>\n",
       "    <tr>\n",
       "      <th>A</th>\n",
       "      <td>37</td>\n",
       "      <td>47</td>\n",
       "      <td>60</td>\n",
       "      <td>87</td>\n",
       "      <td>107</td>\n",
       "    </tr>\n",
       "    <tr>\n",
       "      <th>B</th>\n",
       "      <td>9</td>\n",
       "      <td>29</td>\n",
       "      <td>49</td>\n",
       "      <td>81</td>\n",
       "      <td>78</td>\n",
       "    </tr>\n",
       "    <tr>\n",
       "      <th>C</th>\n",
       "      <td>98</td>\n",
       "      <td>42</td>\n",
       "      <td>92</td>\n",
       "      <td>45</td>\n",
       "      <td>134</td>\n",
       "    </tr>\n",
       "    <tr>\n",
       "      <th>D</th>\n",
       "      <td>38</td>\n",
       "      <td>42</td>\n",
       "      <td>55</td>\n",
       "      <td>67</td>\n",
       "      <td>97</td>\n",
       "    </tr>\n",
       "    <tr>\n",
       "      <th>E</th>\n",
       "      <td>96</td>\n",
       "      <td>70</td>\n",
       "      <td>93</td>\n",
       "      <td>19</td>\n",
       "      <td>163</td>\n",
       "    </tr>\n",
       "  </tbody>\n",
       "</table>\n",
       "</div>"
      ],
      "text/plain": [
       "    W   X   Y   Z  NEW\n",
       "A  37  47  60  87  107\n",
       "B   9  29  49  81   78\n",
       "C  98  42  92  45  134\n",
       "D  38  42  55  67   97\n",
       "E  96  70  93  19  163"
      ]
     },
     "execution_count": 32,
     "metadata": {},
     "output_type": "execute_result"
    }
   ],
   "source": [
    "df['NEW'] = df['X'] + df['Y']\n",
    "df"
   ]
  },
  {
   "cell_type": "code",
   "execution_count": 35,
   "metadata": {},
   "outputs": [
    {
     "data": {
      "text/html": [
       "<div>\n",
       "<style scoped>\n",
       "    .dataframe tbody tr th:only-of-type {\n",
       "        vertical-align: middle;\n",
       "    }\n",
       "\n",
       "    .dataframe tbody tr th {\n",
       "        vertical-align: top;\n",
       "    }\n",
       "\n",
       "    .dataframe thead th {\n",
       "        text-align: right;\n",
       "    }\n",
       "</style>\n",
       "<table border=\"1\" class=\"dataframe\">\n",
       "  <thead>\n",
       "    <tr style=\"text-align: right;\">\n",
       "      <th></th>\n",
       "      <th>W</th>\n",
       "      <th>X</th>\n",
       "      <th>Y</th>\n",
       "      <th>Z</th>\n",
       "      <th>NEW</th>\n",
       "      <th>percentage</th>\n",
       "    </tr>\n",
       "  </thead>\n",
       "  <tbody>\n",
       "    <tr>\n",
       "      <th>A</th>\n",
       "      <td>37</td>\n",
       "      <td>47</td>\n",
       "      <td>60</td>\n",
       "      <td>87</td>\n",
       "      <td>107</td>\n",
       "      <td>43.93</td>\n",
       "    </tr>\n",
       "    <tr>\n",
       "      <th>B</th>\n",
       "      <td>9</td>\n",
       "      <td>29</td>\n",
       "      <td>49</td>\n",
       "      <td>81</td>\n",
       "      <td>78</td>\n",
       "      <td>37.18</td>\n",
       "    </tr>\n",
       "    <tr>\n",
       "      <th>C</th>\n",
       "      <td>98</td>\n",
       "      <td>42</td>\n",
       "      <td>92</td>\n",
       "      <td>45</td>\n",
       "      <td>134</td>\n",
       "      <td>31.34</td>\n",
       "    </tr>\n",
       "    <tr>\n",
       "      <th>D</th>\n",
       "      <td>38</td>\n",
       "      <td>42</td>\n",
       "      <td>55</td>\n",
       "      <td>67</td>\n",
       "      <td>97</td>\n",
       "      <td>43.30</td>\n",
       "    </tr>\n",
       "    <tr>\n",
       "      <th>E</th>\n",
       "      <td>96</td>\n",
       "      <td>70</td>\n",
       "      <td>93</td>\n",
       "      <td>19</td>\n",
       "      <td>163</td>\n",
       "      <td>42.94</td>\n",
       "    </tr>\n",
       "  </tbody>\n",
       "</table>\n",
       "</div>"
      ],
      "text/plain": [
       "    W   X   Y   Z  NEW  percentage\n",
       "A  37  47  60  87  107       43.93\n",
       "B   9  29  49  81   78       37.18\n",
       "C  98  42  92  45  134       31.34\n",
       "D  38  42  55  67   97       43.30\n",
       "E  96  70  93  19  163       42.94"
      ]
     },
     "execution_count": 35,
     "metadata": {},
     "output_type": "execute_result"
    }
   ],
   "source": [
    "df['percentage'] = (df[\"X\"] / df['NEW'] * 100).round(2)\n",
    "df"
   ]
  },
  {
   "cell_type": "markdown",
   "metadata": {},
   "source": [
    "### Drop row and column"
   ]
  },
  {
   "cell_type": "code",
   "execution_count": 36,
   "metadata": {},
   "outputs": [
    {
     "data": {
      "text/html": [
       "<div>\n",
       "<style scoped>\n",
       "    .dataframe tbody tr th:only-of-type {\n",
       "        vertical-align: middle;\n",
       "    }\n",
       "\n",
       "    .dataframe tbody tr th {\n",
       "        vertical-align: top;\n",
       "    }\n",
       "\n",
       "    .dataframe thead th {\n",
       "        text-align: right;\n",
       "    }\n",
       "</style>\n",
       "<table border=\"1\" class=\"dataframe\">\n",
       "  <thead>\n",
       "    <tr style=\"text-align: right;\">\n",
       "      <th></th>\n",
       "      <th>W</th>\n",
       "      <th>X</th>\n",
       "      <th>Y</th>\n",
       "      <th>Z</th>\n",
       "      <th>NEW</th>\n",
       "      <th>percentage</th>\n",
       "    </tr>\n",
       "  </thead>\n",
       "  <tbody>\n",
       "    <tr>\n",
       "      <th>A</th>\n",
       "      <td>37</td>\n",
       "      <td>47</td>\n",
       "      <td>60</td>\n",
       "      <td>87</td>\n",
       "      <td>107</td>\n",
       "      <td>43.93</td>\n",
       "    </tr>\n",
       "    <tr>\n",
       "      <th>B</th>\n",
       "      <td>9</td>\n",
       "      <td>29</td>\n",
       "      <td>49</td>\n",
       "      <td>81</td>\n",
       "      <td>78</td>\n",
       "      <td>37.18</td>\n",
       "    </tr>\n",
       "    <tr>\n",
       "      <th>C</th>\n",
       "      <td>98</td>\n",
       "      <td>42</td>\n",
       "      <td>92</td>\n",
       "      <td>45</td>\n",
       "      <td>134</td>\n",
       "      <td>31.34</td>\n",
       "    </tr>\n",
       "    <tr>\n",
       "      <th>D</th>\n",
       "      <td>38</td>\n",
       "      <td>42</td>\n",
       "      <td>55</td>\n",
       "      <td>67</td>\n",
       "      <td>97</td>\n",
       "      <td>43.30</td>\n",
       "    </tr>\n",
       "    <tr>\n",
       "      <th>E</th>\n",
       "      <td>96</td>\n",
       "      <td>70</td>\n",
       "      <td>93</td>\n",
       "      <td>19</td>\n",
       "      <td>163</td>\n",
       "      <td>42.94</td>\n",
       "    </tr>\n",
       "  </tbody>\n",
       "</table>\n",
       "</div>"
      ],
      "text/plain": [
       "    W   X   Y   Z  NEW  percentage\n",
       "A  37  47  60  87  107       43.93\n",
       "B   9  29  49  81   78       37.18\n",
       "C  98  42  92  45  134       31.34\n",
       "D  38  42  55  67   97       43.30\n",
       "E  96  70  93  19  163       42.94"
      ]
     },
     "execution_count": 36,
     "metadata": {},
     "output_type": "execute_result"
    }
   ],
   "source": [
    "df"
   ]
  },
  {
   "cell_type": "code",
   "execution_count": 39,
   "metadata": {},
   "outputs": [
    {
     "data": {
      "text/html": [
       "<div>\n",
       "<style scoped>\n",
       "    .dataframe tbody tr th:only-of-type {\n",
       "        vertical-align: middle;\n",
       "    }\n",
       "\n",
       "    .dataframe tbody tr th {\n",
       "        vertical-align: top;\n",
       "    }\n",
       "\n",
       "    .dataframe thead th {\n",
       "        text-align: right;\n",
       "    }\n",
       "</style>\n",
       "<table border=\"1\" class=\"dataframe\">\n",
       "  <thead>\n",
       "    <tr style=\"text-align: right;\">\n",
       "      <th></th>\n",
       "      <th>W</th>\n",
       "      <th>X</th>\n",
       "      <th>Y</th>\n",
       "      <th>Z</th>\n",
       "      <th>NEW</th>\n",
       "      <th>percentage</th>\n",
       "    </tr>\n",
       "  </thead>\n",
       "  <tbody>\n",
       "    <tr>\n",
       "      <th>A</th>\n",
       "      <td>37</td>\n",
       "      <td>47</td>\n",
       "      <td>60</td>\n",
       "      <td>87</td>\n",
       "      <td>107</td>\n",
       "      <td>43.93</td>\n",
       "    </tr>\n",
       "    <tr>\n",
       "      <th>D</th>\n",
       "      <td>38</td>\n",
       "      <td>42</td>\n",
       "      <td>55</td>\n",
       "      <td>67</td>\n",
       "      <td>97</td>\n",
       "      <td>43.30</td>\n",
       "    </tr>\n",
       "    <tr>\n",
       "      <th>E</th>\n",
       "      <td>96</td>\n",
       "      <td>70</td>\n",
       "      <td>93</td>\n",
       "      <td>19</td>\n",
       "      <td>163</td>\n",
       "      <td>42.94</td>\n",
       "    </tr>\n",
       "  </tbody>\n",
       "</table>\n",
       "</div>"
      ],
      "text/plain": [
       "    W   X   Y   Z  NEW  percentage\n",
       "A  37  47  60  87  107       43.93\n",
       "D  38  42  55  67   97       43.30\n",
       "E  96  70  93  19  163       42.94"
      ]
     },
     "execution_count": 39,
     "metadata": {},
     "output_type": "execute_result"
    }
   ],
   "source": [
    "df.drop(['B', 'C'])"
   ]
  },
  {
   "cell_type": "code",
   "execution_count": 41,
   "metadata": {},
   "outputs": [
    {
     "data": {
      "text/html": [
       "<div>\n",
       "<style scoped>\n",
       "    .dataframe tbody tr th:only-of-type {\n",
       "        vertical-align: middle;\n",
       "    }\n",
       "\n",
       "    .dataframe tbody tr th {\n",
       "        vertical-align: top;\n",
       "    }\n",
       "\n",
       "    .dataframe thead th {\n",
       "        text-align: right;\n",
       "    }\n",
       "</style>\n",
       "<table border=\"1\" class=\"dataframe\">\n",
       "  <thead>\n",
       "    <tr style=\"text-align: right;\">\n",
       "      <th></th>\n",
       "      <th>W</th>\n",
       "      <th>X</th>\n",
       "      <th>Y</th>\n",
       "      <th>Z</th>\n",
       "      <th>NEW</th>\n",
       "      <th>percentage</th>\n",
       "    </tr>\n",
       "  </thead>\n",
       "  <tbody>\n",
       "    <tr>\n",
       "      <th>A</th>\n",
       "      <td>37</td>\n",
       "      <td>47</td>\n",
       "      <td>60</td>\n",
       "      <td>87</td>\n",
       "      <td>107</td>\n",
       "      <td>43.93</td>\n",
       "    </tr>\n",
       "    <tr>\n",
       "      <th>C</th>\n",
       "      <td>98</td>\n",
       "      <td>42</td>\n",
       "      <td>92</td>\n",
       "      <td>45</td>\n",
       "      <td>134</td>\n",
       "      <td>31.34</td>\n",
       "    </tr>\n",
       "    <tr>\n",
       "      <th>D</th>\n",
       "      <td>38</td>\n",
       "      <td>42</td>\n",
       "      <td>55</td>\n",
       "      <td>67</td>\n",
       "      <td>97</td>\n",
       "      <td>43.30</td>\n",
       "    </tr>\n",
       "    <tr>\n",
       "      <th>E</th>\n",
       "      <td>96</td>\n",
       "      <td>70</td>\n",
       "      <td>93</td>\n",
       "      <td>19</td>\n",
       "      <td>163</td>\n",
       "      <td>42.94</td>\n",
       "    </tr>\n",
       "  </tbody>\n",
       "</table>\n",
       "</div>"
      ],
      "text/plain": [
       "    W   X   Y   Z  NEW  percentage\n",
       "A  37  47  60  87  107       43.93\n",
       "C  98  42  92  45  134       31.34\n",
       "D  38  42  55  67   97       43.30\n",
       "E  96  70  93  19  163       42.94"
      ]
     },
     "execution_count": 41,
     "metadata": {},
     "output_type": "execute_result"
    }
   ],
   "source": [
    "df.drop('B', axis = 0)"
   ]
  },
  {
   "cell_type": "code",
   "execution_count": 43,
   "metadata": {},
   "outputs": [
    {
     "data": {
      "text/html": [
       "<div>\n",
       "<style scoped>\n",
       "    .dataframe tbody tr th:only-of-type {\n",
       "        vertical-align: middle;\n",
       "    }\n",
       "\n",
       "    .dataframe tbody tr th {\n",
       "        vertical-align: top;\n",
       "    }\n",
       "\n",
       "    .dataframe thead th {\n",
       "        text-align: right;\n",
       "    }\n",
       "</style>\n",
       "<table border=\"1\" class=\"dataframe\">\n",
       "  <thead>\n",
       "    <tr style=\"text-align: right;\">\n",
       "      <th></th>\n",
       "      <th>W</th>\n",
       "      <th>X</th>\n",
       "      <th>Y</th>\n",
       "      <th>Z</th>\n",
       "      <th>percentage</th>\n",
       "    </tr>\n",
       "  </thead>\n",
       "  <tbody>\n",
       "    <tr>\n",
       "      <th>A</th>\n",
       "      <td>37</td>\n",
       "      <td>47</td>\n",
       "      <td>60</td>\n",
       "      <td>87</td>\n",
       "      <td>43.93</td>\n",
       "    </tr>\n",
       "    <tr>\n",
       "      <th>B</th>\n",
       "      <td>9</td>\n",
       "      <td>29</td>\n",
       "      <td>49</td>\n",
       "      <td>81</td>\n",
       "      <td>37.18</td>\n",
       "    </tr>\n",
       "    <tr>\n",
       "      <th>C</th>\n",
       "      <td>98</td>\n",
       "      <td>42</td>\n",
       "      <td>92</td>\n",
       "      <td>45</td>\n",
       "      <td>31.34</td>\n",
       "    </tr>\n",
       "    <tr>\n",
       "      <th>D</th>\n",
       "      <td>38</td>\n",
       "      <td>42</td>\n",
       "      <td>55</td>\n",
       "      <td>67</td>\n",
       "      <td>43.30</td>\n",
       "    </tr>\n",
       "    <tr>\n",
       "      <th>E</th>\n",
       "      <td>96</td>\n",
       "      <td>70</td>\n",
       "      <td>93</td>\n",
       "      <td>19</td>\n",
       "      <td>42.94</td>\n",
       "    </tr>\n",
       "  </tbody>\n",
       "</table>\n",
       "</div>"
      ],
      "text/plain": [
       "    W   X   Y   Z  percentage\n",
       "A  37  47  60  87       43.93\n",
       "B   9  29  49  81       37.18\n",
       "C  98  42  92  45       31.34\n",
       "D  38  42  55  67       43.30\n",
       "E  96  70  93  19       42.94"
      ]
     },
     "execution_count": 43,
     "metadata": {},
     "output_type": "execute_result"
    }
   ],
   "source": [
    "df.drop('NEW', axis = 1)"
   ]
  },
  {
   "cell_type": "code",
   "execution_count": 44,
   "metadata": {},
   "outputs": [
    {
     "data": {
      "text/html": [
       "<div>\n",
       "<style scoped>\n",
       "    .dataframe tbody tr th:only-of-type {\n",
       "        vertical-align: middle;\n",
       "    }\n",
       "\n",
       "    .dataframe tbody tr th {\n",
       "        vertical-align: top;\n",
       "    }\n",
       "\n",
       "    .dataframe thead th {\n",
       "        text-align: right;\n",
       "    }\n",
       "</style>\n",
       "<table border=\"1\" class=\"dataframe\">\n",
       "  <thead>\n",
       "    <tr style=\"text-align: right;\">\n",
       "      <th></th>\n",
       "      <th>W</th>\n",
       "      <th>X</th>\n",
       "      <th>Y</th>\n",
       "      <th>Z</th>\n",
       "      <th>NEW</th>\n",
       "      <th>percentage</th>\n",
       "    </tr>\n",
       "  </thead>\n",
       "  <tbody>\n",
       "    <tr>\n",
       "      <th>A</th>\n",
       "      <td>37</td>\n",
       "      <td>47</td>\n",
       "      <td>60</td>\n",
       "      <td>87</td>\n",
       "      <td>107</td>\n",
       "      <td>43.93</td>\n",
       "    </tr>\n",
       "    <tr>\n",
       "      <th>B</th>\n",
       "      <td>9</td>\n",
       "      <td>29</td>\n",
       "      <td>49</td>\n",
       "      <td>81</td>\n",
       "      <td>78</td>\n",
       "      <td>37.18</td>\n",
       "    </tr>\n",
       "    <tr>\n",
       "      <th>C</th>\n",
       "      <td>98</td>\n",
       "      <td>42</td>\n",
       "      <td>92</td>\n",
       "      <td>45</td>\n",
       "      <td>134</td>\n",
       "      <td>31.34</td>\n",
       "    </tr>\n",
       "    <tr>\n",
       "      <th>D</th>\n",
       "      <td>38</td>\n",
       "      <td>42</td>\n",
       "      <td>55</td>\n",
       "      <td>67</td>\n",
       "      <td>97</td>\n",
       "      <td>43.30</td>\n",
       "    </tr>\n",
       "    <tr>\n",
       "      <th>E</th>\n",
       "      <td>96</td>\n",
       "      <td>70</td>\n",
       "      <td>93</td>\n",
       "      <td>19</td>\n",
       "      <td>163</td>\n",
       "      <td>42.94</td>\n",
       "    </tr>\n",
       "  </tbody>\n",
       "</table>\n",
       "</div>"
      ],
      "text/plain": [
       "    W   X   Y   Z  NEW  percentage\n",
       "A  37  47  60  87  107       43.93\n",
       "B   9  29  49  81   78       37.18\n",
       "C  98  42  92  45  134       31.34\n",
       "D  38  42  55  67   97       43.30\n",
       "E  96  70  93  19  163       42.94"
      ]
     },
     "execution_count": 44,
     "metadata": {},
     "output_type": "execute_result"
    }
   ],
   "source": [
    "df"
   ]
  },
  {
   "cell_type": "code",
   "execution_count": 45,
   "metadata": {},
   "outputs": [
    {
     "data": {
      "text/html": [
       "<div>\n",
       "<style scoped>\n",
       "    .dataframe tbody tr th:only-of-type {\n",
       "        vertical-align: middle;\n",
       "    }\n",
       "\n",
       "    .dataframe tbody tr th {\n",
       "        vertical-align: top;\n",
       "    }\n",
       "\n",
       "    .dataframe thead th {\n",
       "        text-align: right;\n",
       "    }\n",
       "</style>\n",
       "<table border=\"1\" class=\"dataframe\">\n",
       "  <thead>\n",
       "    <tr style=\"text-align: right;\">\n",
       "      <th></th>\n",
       "      <th>W</th>\n",
       "      <th>X</th>\n",
       "      <th>Y</th>\n",
       "      <th>Z</th>\n",
       "      <th>NEW</th>\n",
       "      <th>percentage</th>\n",
       "    </tr>\n",
       "  </thead>\n",
       "  <tbody>\n",
       "    <tr>\n",
       "      <th>A</th>\n",
       "      <td>37</td>\n",
       "      <td>47</td>\n",
       "      <td>60</td>\n",
       "      <td>87</td>\n",
       "      <td>107</td>\n",
       "      <td>43.93</td>\n",
       "    </tr>\n",
       "    <tr>\n",
       "      <th>C</th>\n",
       "      <td>98</td>\n",
       "      <td>42</td>\n",
       "      <td>92</td>\n",
       "      <td>45</td>\n",
       "      <td>134</td>\n",
       "      <td>31.34</td>\n",
       "    </tr>\n",
       "    <tr>\n",
       "      <th>D</th>\n",
       "      <td>38</td>\n",
       "      <td>42</td>\n",
       "      <td>55</td>\n",
       "      <td>67</td>\n",
       "      <td>97</td>\n",
       "      <td>43.30</td>\n",
       "    </tr>\n",
       "    <tr>\n",
       "      <th>E</th>\n",
       "      <td>96</td>\n",
       "      <td>70</td>\n",
       "      <td>93</td>\n",
       "      <td>19</td>\n",
       "      <td>163</td>\n",
       "      <td>42.94</td>\n",
       "    </tr>\n",
       "  </tbody>\n",
       "</table>\n",
       "</div>"
      ],
      "text/plain": [
       "    W   X   Y   Z  NEW  percentage\n",
       "A  37  47  60  87  107       43.93\n",
       "C  98  42  92  45  134       31.34\n",
       "D  38  42  55  67   97       43.30\n",
       "E  96  70  93  19  163       42.94"
      ]
     },
     "execution_count": 45,
     "metadata": {},
     "output_type": "execute_result"
    }
   ],
   "source": [
    "df.drop('B', axis = 0, inplace=True)\n",
    "df"
   ]
  },
  {
   "cell_type": "code",
   "execution_count": 46,
   "metadata": {},
   "outputs": [
    {
     "data": {
      "text/html": [
       "<div>\n",
       "<style scoped>\n",
       "    .dataframe tbody tr th:only-of-type {\n",
       "        vertical-align: middle;\n",
       "    }\n",
       "\n",
       "    .dataframe tbody tr th {\n",
       "        vertical-align: top;\n",
       "    }\n",
       "\n",
       "    .dataframe thead th {\n",
       "        text-align: right;\n",
       "    }\n",
       "</style>\n",
       "<table border=\"1\" class=\"dataframe\">\n",
       "  <thead>\n",
       "    <tr style=\"text-align: right;\">\n",
       "      <th></th>\n",
       "      <th>W</th>\n",
       "      <th>X</th>\n",
       "      <th>Y</th>\n",
       "      <th>Z</th>\n",
       "      <th>NEW</th>\n",
       "      <th>percentage</th>\n",
       "    </tr>\n",
       "  </thead>\n",
       "  <tbody>\n",
       "    <tr>\n",
       "      <th>A</th>\n",
       "      <td>37</td>\n",
       "      <td>47</td>\n",
       "      <td>60</td>\n",
       "      <td>87</td>\n",
       "      <td>107</td>\n",
       "      <td>43.93</td>\n",
       "    </tr>\n",
       "    <tr>\n",
       "      <th>C</th>\n",
       "      <td>98</td>\n",
       "      <td>42</td>\n",
       "      <td>92</td>\n",
       "      <td>45</td>\n",
       "      <td>134</td>\n",
       "      <td>31.34</td>\n",
       "    </tr>\n",
       "    <tr>\n",
       "      <th>D</th>\n",
       "      <td>38</td>\n",
       "      <td>42</td>\n",
       "      <td>55</td>\n",
       "      <td>67</td>\n",
       "      <td>97</td>\n",
       "      <td>43.30</td>\n",
       "    </tr>\n",
       "    <tr>\n",
       "      <th>E</th>\n",
       "      <td>96</td>\n",
       "      <td>70</td>\n",
       "      <td>93</td>\n",
       "      <td>19</td>\n",
       "      <td>163</td>\n",
       "      <td>42.94</td>\n",
       "    </tr>\n",
       "  </tbody>\n",
       "</table>\n",
       "</div>"
      ],
      "text/plain": [
       "    W   X   Y   Z  NEW  percentage\n",
       "A  37  47  60  87  107       43.93\n",
       "C  98  42  92  45  134       31.34\n",
       "D  38  42  55  67   97       43.30\n",
       "E  96  70  93  19  163       42.94"
      ]
     },
     "execution_count": 46,
     "metadata": {},
     "output_type": "execute_result"
    }
   ],
   "source": [
    "df"
   ]
  },
  {
   "cell_type": "code",
   "execution_count": 47,
   "metadata": {},
   "outputs": [
    {
     "data": {
      "text/html": [
       "<div>\n",
       "<style scoped>\n",
       "    .dataframe tbody tr th:only-of-type {\n",
       "        vertical-align: middle;\n",
       "    }\n",
       "\n",
       "    .dataframe tbody tr th {\n",
       "        vertical-align: top;\n",
       "    }\n",
       "\n",
       "    .dataframe thead th {\n",
       "        text-align: right;\n",
       "    }\n",
       "</style>\n",
       "<table border=\"1\" class=\"dataframe\">\n",
       "  <thead>\n",
       "    <tr style=\"text-align: right;\">\n",
       "      <th></th>\n",
       "      <th>W</th>\n",
       "      <th>X</th>\n",
       "      <th>Y</th>\n",
       "      <th>Z</th>\n",
       "      <th>percentage</th>\n",
       "    </tr>\n",
       "  </thead>\n",
       "  <tbody>\n",
       "    <tr>\n",
       "      <th>A</th>\n",
       "      <td>37</td>\n",
       "      <td>47</td>\n",
       "      <td>60</td>\n",
       "      <td>87</td>\n",
       "      <td>43.93</td>\n",
       "    </tr>\n",
       "    <tr>\n",
       "      <th>C</th>\n",
       "      <td>98</td>\n",
       "      <td>42</td>\n",
       "      <td>92</td>\n",
       "      <td>45</td>\n",
       "      <td>31.34</td>\n",
       "    </tr>\n",
       "    <tr>\n",
       "      <th>D</th>\n",
       "      <td>38</td>\n",
       "      <td>42</td>\n",
       "      <td>55</td>\n",
       "      <td>67</td>\n",
       "      <td>43.30</td>\n",
       "    </tr>\n",
       "    <tr>\n",
       "      <th>E</th>\n",
       "      <td>96</td>\n",
       "      <td>70</td>\n",
       "      <td>93</td>\n",
       "      <td>19</td>\n",
       "      <td>42.94</td>\n",
       "    </tr>\n",
       "  </tbody>\n",
       "</table>\n",
       "</div>"
      ],
      "text/plain": [
       "    W   X   Y   Z  percentage\n",
       "A  37  47  60  87       43.93\n",
       "C  98  42  92  45       31.34\n",
       "D  38  42  55  67       43.30\n",
       "E  96  70  93  19       42.94"
      ]
     },
     "execution_count": 47,
     "metadata": {},
     "output_type": "execute_result"
    }
   ],
   "source": [
    "df = df.drop('NEW', axis = 1)\n",
    "df"
   ]
  },
  {
   "cell_type": "code",
   "execution_count": 48,
   "metadata": {},
   "outputs": [
    {
     "data": {
      "text/html": [
       "<div>\n",
       "<style scoped>\n",
       "    .dataframe tbody tr th:only-of-type {\n",
       "        vertical-align: middle;\n",
       "    }\n",
       "\n",
       "    .dataframe tbody tr th {\n",
       "        vertical-align: top;\n",
       "    }\n",
       "\n",
       "    .dataframe thead th {\n",
       "        text-align: right;\n",
       "    }\n",
       "</style>\n",
       "<table border=\"1\" class=\"dataframe\">\n",
       "  <thead>\n",
       "    <tr style=\"text-align: right;\">\n",
       "      <th></th>\n",
       "      <th>W</th>\n",
       "      <th>X</th>\n",
       "      <th>Y</th>\n",
       "      <th>Z</th>\n",
       "      <th>percentage</th>\n",
       "    </tr>\n",
       "  </thead>\n",
       "  <tbody>\n",
       "    <tr>\n",
       "      <th>A</th>\n",
       "      <td>37</td>\n",
       "      <td>47</td>\n",
       "      <td>60</td>\n",
       "      <td>87</td>\n",
       "      <td>43.93</td>\n",
       "    </tr>\n",
       "    <tr>\n",
       "      <th>C</th>\n",
       "      <td>98</td>\n",
       "      <td>42</td>\n",
       "      <td>92</td>\n",
       "      <td>45</td>\n",
       "      <td>31.34</td>\n",
       "    </tr>\n",
       "    <tr>\n",
       "      <th>D</th>\n",
       "      <td>38</td>\n",
       "      <td>42</td>\n",
       "      <td>55</td>\n",
       "      <td>67</td>\n",
       "      <td>43.30</td>\n",
       "    </tr>\n",
       "    <tr>\n",
       "      <th>E</th>\n",
       "      <td>96</td>\n",
       "      <td>70</td>\n",
       "      <td>93</td>\n",
       "      <td>19</td>\n",
       "      <td>42.94</td>\n",
       "    </tr>\n",
       "  </tbody>\n",
       "</table>\n",
       "</div>"
      ],
      "text/plain": [
       "    W   X   Y   Z  percentage\n",
       "A  37  47  60  87       43.93\n",
       "C  98  42  92  45       31.34\n",
       "D  38  42  55  67       43.30\n",
       "E  96  70  93  19       42.94"
      ]
     },
     "execution_count": 48,
     "metadata": {},
     "output_type": "execute_result"
    }
   ],
   "source": [
    "df"
   ]
  },
  {
   "cell_type": "code",
   "execution_count": 49,
   "metadata": {},
   "outputs": [
    {
     "data": {
      "text/html": [
       "<div>\n",
       "<style scoped>\n",
       "    .dataframe tbody tr th:only-of-type {\n",
       "        vertical-align: middle;\n",
       "    }\n",
       "\n",
       "    .dataframe tbody tr th {\n",
       "        vertical-align: top;\n",
       "    }\n",
       "\n",
       "    .dataframe thead th {\n",
       "        text-align: right;\n",
       "    }\n",
       "</style>\n",
       "<table border=\"1\" class=\"dataframe\">\n",
       "  <thead>\n",
       "    <tr style=\"text-align: right;\">\n",
       "      <th></th>\n",
       "      <th>W</th>\n",
       "      <th>X</th>\n",
       "      <th>Y</th>\n",
       "      <th>percentage</th>\n",
       "    </tr>\n",
       "  </thead>\n",
       "  <tbody>\n",
       "    <tr>\n",
       "      <th>A</th>\n",
       "      <td>37</td>\n",
       "      <td>47</td>\n",
       "      <td>60</td>\n",
       "      <td>43.93</td>\n",
       "    </tr>\n",
       "    <tr>\n",
       "      <th>C</th>\n",
       "      <td>98</td>\n",
       "      <td>42</td>\n",
       "      <td>92</td>\n",
       "      <td>31.34</td>\n",
       "    </tr>\n",
       "    <tr>\n",
       "      <th>D</th>\n",
       "      <td>38</td>\n",
       "      <td>42</td>\n",
       "      <td>55</td>\n",
       "      <td>43.30</td>\n",
       "    </tr>\n",
       "    <tr>\n",
       "      <th>E</th>\n",
       "      <td>96</td>\n",
       "      <td>70</td>\n",
       "      <td>93</td>\n",
       "      <td>42.94</td>\n",
       "    </tr>\n",
       "  </tbody>\n",
       "</table>\n",
       "</div>"
      ],
      "text/plain": [
       "    W   X   Y  percentage\n",
       "A  37  47  60       43.93\n",
       "C  98  42  92       31.34\n",
       "D  38  42  55       43.30\n",
       "E  96  70  93       42.94"
      ]
     },
     "execution_count": 49,
     "metadata": {},
     "output_type": "execute_result"
    }
   ],
   "source": [
    "df1 = df.drop('Z', axis = 1)\n",
    "df1"
   ]
  },
  {
   "cell_type": "markdown",
   "metadata": {},
   "source": [
    "### Rename"
   ]
  },
  {
   "cell_type": "code",
   "execution_count": 50,
   "metadata": {},
   "outputs": [
    {
     "data": {
      "text/html": [
       "<div>\n",
       "<style scoped>\n",
       "    .dataframe tbody tr th:only-of-type {\n",
       "        vertical-align: middle;\n",
       "    }\n",
       "\n",
       "    .dataframe tbody tr th {\n",
       "        vertical-align: top;\n",
       "    }\n",
       "\n",
       "    .dataframe thead th {\n",
       "        text-align: right;\n",
       "    }\n",
       "</style>\n",
       "<table border=\"1\" class=\"dataframe\">\n",
       "  <thead>\n",
       "    <tr style=\"text-align: right;\">\n",
       "      <th></th>\n",
       "      <th>Ali</th>\n",
       "      <th>X</th>\n",
       "      <th>Y</th>\n",
       "      <th>Z</th>\n",
       "      <th>percentage</th>\n",
       "    </tr>\n",
       "  </thead>\n",
       "  <tbody>\n",
       "    <tr>\n",
       "      <th>A</th>\n",
       "      <td>37</td>\n",
       "      <td>47</td>\n",
       "      <td>60</td>\n",
       "      <td>87</td>\n",
       "      <td>43.93</td>\n",
       "    </tr>\n",
       "    <tr>\n",
       "      <th>C</th>\n",
       "      <td>98</td>\n",
       "      <td>42</td>\n",
       "      <td>92</td>\n",
       "      <td>45</td>\n",
       "      <td>31.34</td>\n",
       "    </tr>\n",
       "    <tr>\n",
       "      <th>D</th>\n",
       "      <td>38</td>\n",
       "      <td>42</td>\n",
       "      <td>55</td>\n",
       "      <td>67</td>\n",
       "      <td>43.30</td>\n",
       "    </tr>\n",
       "    <tr>\n",
       "      <th>E</th>\n",
       "      <td>96</td>\n",
       "      <td>70</td>\n",
       "      <td>93</td>\n",
       "      <td>19</td>\n",
       "      <td>42.94</td>\n",
       "    </tr>\n",
       "  </tbody>\n",
       "</table>\n",
       "</div>"
      ],
      "text/plain": [
       "   Ali   X   Y   Z  percentage\n",
       "A   37  47  60  87       43.93\n",
       "C   98  42  92  45       31.34\n",
       "D   38  42  55  67       43.30\n",
       "E   96  70  93  19       42.94"
      ]
     },
     "execution_count": 50,
     "metadata": {},
     "output_type": "execute_result"
    }
   ],
   "source": [
    "df.rename(columns={'W':'Ali'})"
   ]
  },
  {
   "cell_type": "code",
   "execution_count": 53,
   "metadata": {},
   "outputs": [
    {
     "data": {
      "text/html": [
       "<div>\n",
       "<style scoped>\n",
       "    .dataframe tbody tr th:only-of-type {\n",
       "        vertical-align: middle;\n",
       "    }\n",
       "\n",
       "    .dataframe tbody tr th {\n",
       "        vertical-align: top;\n",
       "    }\n",
       "\n",
       "    .dataframe thead th {\n",
       "        text-align: right;\n",
       "    }\n",
       "</style>\n",
       "<table border=\"1\" class=\"dataframe\">\n",
       "  <thead>\n",
       "    <tr style=\"text-align: right;\">\n",
       "      <th></th>\n",
       "      <th>Ali</th>\n",
       "      <th>X</th>\n",
       "      <th>Y</th>\n",
       "      <th>Mahshid</th>\n",
       "      <th>percentage</th>\n",
       "    </tr>\n",
       "  </thead>\n",
       "  <tbody>\n",
       "    <tr>\n",
       "      <th>A</th>\n",
       "      <td>37</td>\n",
       "      <td>47</td>\n",
       "      <td>60</td>\n",
       "      <td>87</td>\n",
       "      <td>43.93</td>\n",
       "    </tr>\n",
       "    <tr>\n",
       "      <th>C</th>\n",
       "      <td>98</td>\n",
       "      <td>42</td>\n",
       "      <td>92</td>\n",
       "      <td>45</td>\n",
       "      <td>31.34</td>\n",
       "    </tr>\n",
       "    <tr>\n",
       "      <th>D</th>\n",
       "      <td>38</td>\n",
       "      <td>42</td>\n",
       "      <td>55</td>\n",
       "      <td>67</td>\n",
       "      <td>43.30</td>\n",
       "    </tr>\n",
       "    <tr>\n",
       "      <th>E</th>\n",
       "      <td>96</td>\n",
       "      <td>70</td>\n",
       "      <td>93</td>\n",
       "      <td>19</td>\n",
       "      <td>42.94</td>\n",
       "    </tr>\n",
       "  </tbody>\n",
       "</table>\n",
       "</div>"
      ],
      "text/plain": [
       "   Ali   X   Y  Mahshid  percentage\n",
       "A   37  47  60       87       43.93\n",
       "C   98  42  92       45       31.34\n",
       "D   38  42  55       67       43.30\n",
       "E   96  70  93       19       42.94"
      ]
     },
     "execution_count": 53,
     "metadata": {},
     "output_type": "execute_result"
    }
   ],
   "source": [
    "df.rename(columns={'W':'Ali', 'Z':'Mahshid'}, inplace=True)\n",
    "df"
   ]
  },
  {
   "cell_type": "code",
   "execution_count": 54,
   "metadata": {},
   "outputs": [
    {
     "data": {
      "text/html": [
       "<div>\n",
       "<style scoped>\n",
       "    .dataframe tbody tr th:only-of-type {\n",
       "        vertical-align: middle;\n",
       "    }\n",
       "\n",
       "    .dataframe tbody tr th {\n",
       "        vertical-align: top;\n",
       "    }\n",
       "\n",
       "    .dataframe thead th {\n",
       "        text-align: right;\n",
       "    }\n",
       "</style>\n",
       "<table border=\"1\" class=\"dataframe\">\n",
       "  <thead>\n",
       "    <tr style=\"text-align: right;\">\n",
       "      <th></th>\n",
       "      <th>Ali</th>\n",
       "      <th>X</th>\n",
       "      <th>Y</th>\n",
       "      <th>Mahshid</th>\n",
       "      <th>percentage</th>\n",
       "    </tr>\n",
       "  </thead>\n",
       "  <tbody>\n",
       "    <tr>\n",
       "      <th>Javad</th>\n",
       "      <td>37</td>\n",
       "      <td>47</td>\n",
       "      <td>60</td>\n",
       "      <td>87</td>\n",
       "      <td>43.93</td>\n",
       "    </tr>\n",
       "    <tr>\n",
       "      <th>C</th>\n",
       "      <td>98</td>\n",
       "      <td>42</td>\n",
       "      <td>92</td>\n",
       "      <td>45</td>\n",
       "      <td>31.34</td>\n",
       "    </tr>\n",
       "    <tr>\n",
       "      <th>Shabnam</th>\n",
       "      <td>38</td>\n",
       "      <td>42</td>\n",
       "      <td>55</td>\n",
       "      <td>67</td>\n",
       "      <td>43.30</td>\n",
       "    </tr>\n",
       "    <tr>\n",
       "      <th>E</th>\n",
       "      <td>96</td>\n",
       "      <td>70</td>\n",
       "      <td>93</td>\n",
       "      <td>19</td>\n",
       "      <td>42.94</td>\n",
       "    </tr>\n",
       "  </tbody>\n",
       "</table>\n",
       "</div>"
      ],
      "text/plain": [
       "         Ali   X   Y  Mahshid  percentage\n",
       "Javad     37  47  60       87       43.93\n",
       "C         98  42  92       45       31.34\n",
       "Shabnam   38  42  55       67       43.30\n",
       "E         96  70  93       19       42.94"
      ]
     },
     "execution_count": 54,
     "metadata": {},
     "output_type": "execute_result"
    }
   ],
   "source": [
    "df = df.rename(index={'A': 'Javad', 'D': 'Shabnam'})\n",
    "df"
   ]
  },
  {
   "cell_type": "code",
   "execution_count": 55,
   "metadata": {},
   "outputs": [
    {
     "data": {
      "text/html": [
       "<div>\n",
       "<style scoped>\n",
       "    .dataframe tbody tr th:only-of-type {\n",
       "        vertical-align: middle;\n",
       "    }\n",
       "\n",
       "    .dataframe tbody tr th {\n",
       "        vertical-align: top;\n",
       "    }\n",
       "\n",
       "    .dataframe thead th {\n",
       "        text-align: right;\n",
       "    }\n",
       "</style>\n",
       "<table border=\"1\" class=\"dataframe\">\n",
       "  <thead>\n",
       "    <tr style=\"text-align: right;\">\n",
       "      <th></th>\n",
       "      <th>Ali</th>\n",
       "      <th>X</th>\n",
       "      <th>Y</th>\n",
       "      <th>Mahshid</th>\n",
       "      <th>percentage</th>\n",
       "    </tr>\n",
       "  </thead>\n",
       "  <tbody>\n",
       "    <tr>\n",
       "      <th>Javad</th>\n",
       "      <td>37</td>\n",
       "      <td>47</td>\n",
       "      <td>60</td>\n",
       "      <td>87</td>\n",
       "      <td>43.93</td>\n",
       "    </tr>\n",
       "    <tr>\n",
       "      <th>C</th>\n",
       "      <td>98</td>\n",
       "      <td>42</td>\n",
       "      <td>92</td>\n",
       "      <td>45</td>\n",
       "      <td>31.34</td>\n",
       "    </tr>\n",
       "    <tr>\n",
       "      <th>Shabnam</th>\n",
       "      <td>38</td>\n",
       "      <td>42</td>\n",
       "      <td>55</td>\n",
       "      <td>67</td>\n",
       "      <td>43.30</td>\n",
       "    </tr>\n",
       "    <tr>\n",
       "      <th>E</th>\n",
       "      <td>96</td>\n",
       "      <td>70</td>\n",
       "      <td>93</td>\n",
       "      <td>19</td>\n",
       "      <td>42.94</td>\n",
       "    </tr>\n",
       "  </tbody>\n",
       "</table>\n",
       "</div>"
      ],
      "text/plain": [
       "         Ali   X   Y  Mahshid  percentage\n",
       "Javad     37  47  60       87       43.93\n",
       "C         98  42  92       45       31.34\n",
       "Shabnam   38  42  55       67       43.30\n",
       "E         96  70  93       19       42.94"
      ]
     },
     "execution_count": 55,
     "metadata": {},
     "output_type": "execute_result"
    }
   ],
   "source": [
    "df"
   ]
  },
  {
   "cell_type": "markdown",
   "metadata": {},
   "source": [
    "### Sort Value and index"
   ]
  },
  {
   "cell_type": "code",
   "execution_count": 60,
   "metadata": {},
   "outputs": [
    {
     "data": {
      "text/html": [
       "<div>\n",
       "<style scoped>\n",
       "    .dataframe tbody tr th:only-of-type {\n",
       "        vertical-align: middle;\n",
       "    }\n",
       "\n",
       "    .dataframe tbody tr th {\n",
       "        vertical-align: top;\n",
       "    }\n",
       "\n",
       "    .dataframe thead th {\n",
       "        text-align: right;\n",
       "    }\n",
       "</style>\n",
       "<table border=\"1\" class=\"dataframe\">\n",
       "  <thead>\n",
       "    <tr style=\"text-align: right;\">\n",
       "      <th></th>\n",
       "      <th>Ali</th>\n",
       "      <th>X</th>\n",
       "      <th>Y</th>\n",
       "      <th>Mahshid</th>\n",
       "      <th>percentage</th>\n",
       "    </tr>\n",
       "  </thead>\n",
       "  <tbody>\n",
       "    <tr>\n",
       "      <th>Javad</th>\n",
       "      <td>37</td>\n",
       "      <td>47</td>\n",
       "      <td>60</td>\n",
       "      <td>87</td>\n",
       "      <td>43.93</td>\n",
       "    </tr>\n",
       "    <tr>\n",
       "      <th>C</th>\n",
       "      <td>98</td>\n",
       "      <td>42</td>\n",
       "      <td>92</td>\n",
       "      <td>67</td>\n",
       "      <td>31.34</td>\n",
       "    </tr>\n",
       "    <tr>\n",
       "      <th>Shabnam</th>\n",
       "      <td>38</td>\n",
       "      <td>42</td>\n",
       "      <td>55</td>\n",
       "      <td>67</td>\n",
       "      <td>43.30</td>\n",
       "    </tr>\n",
       "    <tr>\n",
       "      <th>E</th>\n",
       "      <td>96</td>\n",
       "      <td>70</td>\n",
       "      <td>93</td>\n",
       "      <td>19</td>\n",
       "      <td>42.94</td>\n",
       "    </tr>\n",
       "  </tbody>\n",
       "</table>\n",
       "</div>"
      ],
      "text/plain": [
       "         Ali   X   Y  Mahshid  percentage\n",
       "Javad     37  47  60       87       43.93\n",
       "C         98  42  92       67       31.34\n",
       "Shabnam   38  42  55       67       43.30\n",
       "E         96  70  93       19       42.94"
      ]
     },
     "execution_count": 60,
     "metadata": {},
     "output_type": "execute_result"
    }
   ],
   "source": [
    "df.sort_values(by = 'Mahshid', ascending=False)"
   ]
  },
  {
   "cell_type": "code",
   "execution_count": 58,
   "metadata": {},
   "outputs": [],
   "source": [
    "df.loc['C', 'Mahshid'] = 67"
   ]
  },
  {
   "cell_type": "code",
   "execution_count": 65,
   "metadata": {},
   "outputs": [
    {
     "data": {
      "text/html": [
       "<div>\n",
       "<style scoped>\n",
       "    .dataframe tbody tr th:only-of-type {\n",
       "        vertical-align: middle;\n",
       "    }\n",
       "\n",
       "    .dataframe tbody tr th {\n",
       "        vertical-align: top;\n",
       "    }\n",
       "\n",
       "    .dataframe thead th {\n",
       "        text-align: right;\n",
       "    }\n",
       "</style>\n",
       "<table border=\"1\" class=\"dataframe\">\n",
       "  <thead>\n",
       "    <tr style=\"text-align: right;\">\n",
       "      <th></th>\n",
       "      <th>Ali</th>\n",
       "      <th>X</th>\n",
       "      <th>Y</th>\n",
       "      <th>Mahshid</th>\n",
       "      <th>percentage</th>\n",
       "    </tr>\n",
       "  </thead>\n",
       "  <tbody>\n",
       "    <tr>\n",
       "      <th>Javad</th>\n",
       "      <td>37</td>\n",
       "      <td>47</td>\n",
       "      <td>60</td>\n",
       "      <td>87</td>\n",
       "      <td>43.93</td>\n",
       "    </tr>\n",
       "    <tr>\n",
       "      <th>C</th>\n",
       "      <td>98</td>\n",
       "      <td>42</td>\n",
       "      <td>92</td>\n",
       "      <td>67</td>\n",
       "      <td>31.34</td>\n",
       "    </tr>\n",
       "    <tr>\n",
       "      <th>Shabnam</th>\n",
       "      <td>38</td>\n",
       "      <td>42</td>\n",
       "      <td>55</td>\n",
       "      <td>67</td>\n",
       "      <td>43.30</td>\n",
       "    </tr>\n",
       "    <tr>\n",
       "      <th>E</th>\n",
       "      <td>96</td>\n",
       "      <td>70</td>\n",
       "      <td>93</td>\n",
       "      <td>19</td>\n",
       "      <td>42.94</td>\n",
       "    </tr>\n",
       "  </tbody>\n",
       "</table>\n",
       "</div>"
      ],
      "text/plain": [
       "         Ali   X   Y  Mahshid  percentage\n",
       "Javad     37  47  60       87       43.93\n",
       "C         98  42  92       67       31.34\n",
       "Shabnam   38  42  55       67       43.30\n",
       "E         96  70  93       19       42.94"
      ]
     },
     "execution_count": 65,
     "metadata": {},
     "output_type": "execute_result"
    }
   ],
   "source": [
    "df.sort_values(by = ['Mahshid', 'Ali'], ascending=False)"
   ]
  },
  {
   "cell_type": "code",
   "execution_count": 66,
   "metadata": {},
   "outputs": [
    {
     "data": {
      "text/html": [
       "<div>\n",
       "<style scoped>\n",
       "    .dataframe tbody tr th:only-of-type {\n",
       "        vertical-align: middle;\n",
       "    }\n",
       "\n",
       "    .dataframe tbody tr th {\n",
       "        vertical-align: top;\n",
       "    }\n",
       "\n",
       "    .dataframe thead th {\n",
       "        text-align: right;\n",
       "    }\n",
       "</style>\n",
       "<table border=\"1\" class=\"dataframe\">\n",
       "  <thead>\n",
       "    <tr style=\"text-align: right;\">\n",
       "      <th></th>\n",
       "      <th>Ali</th>\n",
       "      <th>X</th>\n",
       "      <th>Y</th>\n",
       "      <th>Mahshid</th>\n",
       "      <th>percentage</th>\n",
       "    </tr>\n",
       "  </thead>\n",
       "  <tbody>\n",
       "    <tr>\n",
       "      <th>C</th>\n",
       "      <td>98</td>\n",
       "      <td>42</td>\n",
       "      <td>92</td>\n",
       "      <td>67</td>\n",
       "      <td>31.34</td>\n",
       "    </tr>\n",
       "    <tr>\n",
       "      <th>E</th>\n",
       "      <td>96</td>\n",
       "      <td>70</td>\n",
       "      <td>93</td>\n",
       "      <td>19</td>\n",
       "      <td>42.94</td>\n",
       "    </tr>\n",
       "    <tr>\n",
       "      <th>Javad</th>\n",
       "      <td>37</td>\n",
       "      <td>47</td>\n",
       "      <td>60</td>\n",
       "      <td>87</td>\n",
       "      <td>43.93</td>\n",
       "    </tr>\n",
       "    <tr>\n",
       "      <th>Shabnam</th>\n",
       "      <td>38</td>\n",
       "      <td>42</td>\n",
       "      <td>55</td>\n",
       "      <td>67</td>\n",
       "      <td>43.30</td>\n",
       "    </tr>\n",
       "  </tbody>\n",
       "</table>\n",
       "</div>"
      ],
      "text/plain": [
       "         Ali   X   Y  Mahshid  percentage\n",
       "C         98  42  92       67       31.34\n",
       "E         96  70  93       19       42.94\n",
       "Javad     37  47  60       87       43.93\n",
       "Shabnam   38  42  55       67       43.30"
      ]
     },
     "execution_count": 66,
     "metadata": {},
     "output_type": "execute_result"
    }
   ],
   "source": [
    "df.sort_index()"
   ]
  },
  {
   "cell_type": "code",
   "execution_count": 67,
   "metadata": {},
   "outputs": [
    {
     "data": {
      "text/html": [
       "<div>\n",
       "<style scoped>\n",
       "    .dataframe tbody tr th:only-of-type {\n",
       "        vertical-align: middle;\n",
       "    }\n",
       "\n",
       "    .dataframe tbody tr th {\n",
       "        vertical-align: top;\n",
       "    }\n",
       "\n",
       "    .dataframe thead th {\n",
       "        text-align: right;\n",
       "    }\n",
       "</style>\n",
       "<table border=\"1\" class=\"dataframe\">\n",
       "  <thead>\n",
       "    <tr style=\"text-align: right;\">\n",
       "      <th></th>\n",
       "      <th>Ali</th>\n",
       "      <th>X</th>\n",
       "      <th>Y</th>\n",
       "      <th>Mahshid</th>\n",
       "      <th>percentage</th>\n",
       "    </tr>\n",
       "  </thead>\n",
       "  <tbody>\n",
       "    <tr>\n",
       "      <th>Javad</th>\n",
       "      <td>37</td>\n",
       "      <td>47</td>\n",
       "      <td>60</td>\n",
       "      <td>87</td>\n",
       "      <td>43.93</td>\n",
       "    </tr>\n",
       "    <tr>\n",
       "      <th>C</th>\n",
       "      <td>98</td>\n",
       "      <td>42</td>\n",
       "      <td>92</td>\n",
       "      <td>67</td>\n",
       "      <td>31.34</td>\n",
       "    </tr>\n",
       "    <tr>\n",
       "      <th>Shabnam</th>\n",
       "      <td>38</td>\n",
       "      <td>42</td>\n",
       "      <td>55</td>\n",
       "      <td>67</td>\n",
       "      <td>43.30</td>\n",
       "    </tr>\n",
       "    <tr>\n",
       "      <th>E</th>\n",
       "      <td>96</td>\n",
       "      <td>70</td>\n",
       "      <td>93</td>\n",
       "      <td>19</td>\n",
       "      <td>42.94</td>\n",
       "    </tr>\n",
       "  </tbody>\n",
       "</table>\n",
       "</div>"
      ],
      "text/plain": [
       "         Ali   X   Y  Mahshid  percentage\n",
       "Javad     37  47  60       87       43.93\n",
       "C         98  42  92       67       31.34\n",
       "Shabnam   38  42  55       67       43.30\n",
       "E         96  70  93       19       42.94"
      ]
     },
     "execution_count": 67,
     "metadata": {},
     "output_type": "execute_result"
    }
   ],
   "source": [
    "df"
   ]
  },
  {
   "cell_type": "markdown",
   "metadata": {},
   "source": [
    "### call in table"
   ]
  },
  {
   "cell_type": "code",
   "execution_count": 68,
   "metadata": {},
   "outputs": [
    {
     "data": {
      "text/html": [
       "<div>\n",
       "<style scoped>\n",
       "    .dataframe tbody tr th:only-of-type {\n",
       "        vertical-align: middle;\n",
       "    }\n",
       "\n",
       "    .dataframe tbody tr th {\n",
       "        vertical-align: top;\n",
       "    }\n",
       "\n",
       "    .dataframe thead th {\n",
       "        text-align: right;\n",
       "    }\n",
       "</style>\n",
       "<table border=\"1\" class=\"dataframe\">\n",
       "  <thead>\n",
       "    <tr style=\"text-align: right;\">\n",
       "      <th></th>\n",
       "      <th>Ali</th>\n",
       "      <th>X</th>\n",
       "      <th>Y</th>\n",
       "      <th>Mahshid</th>\n",
       "      <th>percentage</th>\n",
       "    </tr>\n",
       "  </thead>\n",
       "  <tbody>\n",
       "    <tr>\n",
       "      <th>Javad</th>\n",
       "      <td>37</td>\n",
       "      <td>47</td>\n",
       "      <td>60</td>\n",
       "      <td>87</td>\n",
       "      <td>43.93</td>\n",
       "    </tr>\n",
       "    <tr>\n",
       "      <th>C</th>\n",
       "      <td>98</td>\n",
       "      <td>42</td>\n",
       "      <td>92</td>\n",
       "      <td>67</td>\n",
       "      <td>31.34</td>\n",
       "    </tr>\n",
       "    <tr>\n",
       "      <th>Shabnam</th>\n",
       "      <td>38</td>\n",
       "      <td>42</td>\n",
       "      <td>55</td>\n",
       "      <td>67</td>\n",
       "      <td>43.30</td>\n",
       "    </tr>\n",
       "    <tr>\n",
       "      <th>E</th>\n",
       "      <td>96</td>\n",
       "      <td>70</td>\n",
       "      <td>93</td>\n",
       "      <td>19</td>\n",
       "      <td>42.94</td>\n",
       "    </tr>\n",
       "  </tbody>\n",
       "</table>\n",
       "</div>"
      ],
      "text/plain": [
       "         Ali   X   Y  Mahshid  percentage\n",
       "Javad     37  47  60       87       43.93\n",
       "C         98  42  92       67       31.34\n",
       "Shabnam   38  42  55       67       43.30\n",
       "E         96  70  93       19       42.94"
      ]
     },
     "execution_count": 68,
     "metadata": {},
     "output_type": "execute_result"
    }
   ],
   "source": [
    "df"
   ]
  },
  {
   "cell_type": "markdown",
   "metadata": {},
   "source": [
    "#### loc"
   ]
  },
  {
   "cell_type": "code",
   "execution_count": 69,
   "metadata": {},
   "outputs": [
    {
     "data": {
      "text/plain": [
       "Ali           37.00\n",
       "X             47.00\n",
       "Y             60.00\n",
       "Mahshid       87.00\n",
       "percentage    43.93\n",
       "Name: Javad, dtype: float64"
      ]
     },
     "execution_count": 69,
     "metadata": {},
     "output_type": "execute_result"
    }
   ],
   "source": [
    "df.loc['Javad']"
   ]
  },
  {
   "cell_type": "code",
   "execution_count": 71,
   "metadata": {},
   "outputs": [
    {
     "data": {
      "text/html": [
       "<div>\n",
       "<style scoped>\n",
       "    .dataframe tbody tr th:only-of-type {\n",
       "        vertical-align: middle;\n",
       "    }\n",
       "\n",
       "    .dataframe tbody tr th {\n",
       "        vertical-align: top;\n",
       "    }\n",
       "\n",
       "    .dataframe thead th {\n",
       "        text-align: right;\n",
       "    }\n",
       "</style>\n",
       "<table border=\"1\" class=\"dataframe\">\n",
       "  <thead>\n",
       "    <tr style=\"text-align: right;\">\n",
       "      <th></th>\n",
       "      <th>Ali</th>\n",
       "      <th>X</th>\n",
       "      <th>Y</th>\n",
       "      <th>Mahshid</th>\n",
       "      <th>percentage</th>\n",
       "    </tr>\n",
       "  </thead>\n",
       "  <tbody>\n",
       "    <tr>\n",
       "      <th>Javad</th>\n",
       "      <td>37</td>\n",
       "      <td>47</td>\n",
       "      <td>60</td>\n",
       "      <td>87</td>\n",
       "      <td>43.93</td>\n",
       "    </tr>\n",
       "    <tr>\n",
       "      <th>E</th>\n",
       "      <td>96</td>\n",
       "      <td>70</td>\n",
       "      <td>93</td>\n",
       "      <td>19</td>\n",
       "      <td>42.94</td>\n",
       "    </tr>\n",
       "  </tbody>\n",
       "</table>\n",
       "</div>"
      ],
      "text/plain": [
       "       Ali   X   Y  Mahshid  percentage\n",
       "Javad   37  47  60       87       43.93\n",
       "E       96  70  93       19       42.94"
      ]
     },
     "execution_count": 71,
     "metadata": {},
     "output_type": "execute_result"
    }
   ],
   "source": [
    "df.loc[['Javad', 'E']]"
   ]
  },
  {
   "cell_type": "code",
   "execution_count": 73,
   "metadata": {},
   "outputs": [
    {
     "data": {
      "text/plain": [
       "87"
      ]
     },
     "execution_count": 73,
     "metadata": {},
     "output_type": "execute_result"
    }
   ],
   "source": [
    "df.loc['Javad', 'Mahshid']"
   ]
  },
  {
   "cell_type": "code",
   "execution_count": 74,
   "metadata": {},
   "outputs": [
    {
     "data": {
      "text/html": [
       "<div>\n",
       "<style scoped>\n",
       "    .dataframe tbody tr th:only-of-type {\n",
       "        vertical-align: middle;\n",
       "    }\n",
       "\n",
       "    .dataframe tbody tr th {\n",
       "        vertical-align: top;\n",
       "    }\n",
       "\n",
       "    .dataframe thead th {\n",
       "        text-align: right;\n",
       "    }\n",
       "</style>\n",
       "<table border=\"1\" class=\"dataframe\">\n",
       "  <thead>\n",
       "    <tr style=\"text-align: right;\">\n",
       "      <th></th>\n",
       "      <th>X</th>\n",
       "      <th>Y</th>\n",
       "    </tr>\n",
       "  </thead>\n",
       "  <tbody>\n",
       "    <tr>\n",
       "      <th>Javad</th>\n",
       "      <td>47</td>\n",
       "      <td>60</td>\n",
       "    </tr>\n",
       "    <tr>\n",
       "      <th>E</th>\n",
       "      <td>70</td>\n",
       "      <td>93</td>\n",
       "    </tr>\n",
       "  </tbody>\n",
       "</table>\n",
       "</div>"
      ],
      "text/plain": [
       "        X   Y\n",
       "Javad  47  60\n",
       "E      70  93"
      ]
     },
     "execution_count": 74,
     "metadata": {},
     "output_type": "execute_result"
    }
   ],
   "source": [
    "df.loc[['Javad', 'E'],['X', 'Y']]"
   ]
  },
  {
   "cell_type": "code",
   "execution_count": 75,
   "metadata": {},
   "outputs": [
    {
     "data": {
      "text/html": [
       "<div>\n",
       "<style scoped>\n",
       "    .dataframe tbody tr th:only-of-type {\n",
       "        vertical-align: middle;\n",
       "    }\n",
       "\n",
       "    .dataframe tbody tr th {\n",
       "        vertical-align: top;\n",
       "    }\n",
       "\n",
       "    .dataframe thead th {\n",
       "        text-align: right;\n",
       "    }\n",
       "</style>\n",
       "<table border=\"1\" class=\"dataframe\">\n",
       "  <thead>\n",
       "    <tr style=\"text-align: right;\">\n",
       "      <th></th>\n",
       "      <th>X</th>\n",
       "      <th>Y</th>\n",
       "    </tr>\n",
       "  </thead>\n",
       "  <tbody>\n",
       "    <tr>\n",
       "      <th>Javad</th>\n",
       "      <td>47</td>\n",
       "      <td>60</td>\n",
       "    </tr>\n",
       "    <tr>\n",
       "      <th>C</th>\n",
       "      <td>42</td>\n",
       "      <td>92</td>\n",
       "    </tr>\n",
       "    <tr>\n",
       "      <th>Shabnam</th>\n",
       "      <td>42</td>\n",
       "      <td>55</td>\n",
       "    </tr>\n",
       "    <tr>\n",
       "      <th>E</th>\n",
       "      <td>70</td>\n",
       "      <td>93</td>\n",
       "    </tr>\n",
       "  </tbody>\n",
       "</table>\n",
       "</div>"
      ],
      "text/plain": [
       "          X   Y\n",
       "Javad    47  60\n",
       "C        42  92\n",
       "Shabnam  42  55\n",
       "E        70  93"
      ]
     },
     "execution_count": 75,
     "metadata": {},
     "output_type": "execute_result"
    }
   ],
   "source": [
    "df.loc[:,['X', 'Y']]"
   ]
  },
  {
   "cell_type": "markdown",
   "metadata": {},
   "source": [
    "#### iloc"
   ]
  },
  {
   "cell_type": "code",
   "execution_count": 76,
   "metadata": {},
   "outputs": [
    {
     "data": {
      "text/html": [
       "<div>\n",
       "<style scoped>\n",
       "    .dataframe tbody tr th:only-of-type {\n",
       "        vertical-align: middle;\n",
       "    }\n",
       "\n",
       "    .dataframe tbody tr th {\n",
       "        vertical-align: top;\n",
       "    }\n",
       "\n",
       "    .dataframe thead th {\n",
       "        text-align: right;\n",
       "    }\n",
       "</style>\n",
       "<table border=\"1\" class=\"dataframe\">\n",
       "  <thead>\n",
       "    <tr style=\"text-align: right;\">\n",
       "      <th></th>\n",
       "      <th>Ali</th>\n",
       "      <th>X</th>\n",
       "      <th>Y</th>\n",
       "      <th>Mahshid</th>\n",
       "      <th>percentage</th>\n",
       "    </tr>\n",
       "  </thead>\n",
       "  <tbody>\n",
       "    <tr>\n",
       "      <th>Javad</th>\n",
       "      <td>37</td>\n",
       "      <td>47</td>\n",
       "      <td>60</td>\n",
       "      <td>87</td>\n",
       "      <td>43.93</td>\n",
       "    </tr>\n",
       "    <tr>\n",
       "      <th>C</th>\n",
       "      <td>98</td>\n",
       "      <td>42</td>\n",
       "      <td>92</td>\n",
       "      <td>67</td>\n",
       "      <td>31.34</td>\n",
       "    </tr>\n",
       "    <tr>\n",
       "      <th>Shabnam</th>\n",
       "      <td>38</td>\n",
       "      <td>42</td>\n",
       "      <td>55</td>\n",
       "      <td>67</td>\n",
       "      <td>43.30</td>\n",
       "    </tr>\n",
       "    <tr>\n",
       "      <th>E</th>\n",
       "      <td>96</td>\n",
       "      <td>70</td>\n",
       "      <td>93</td>\n",
       "      <td>19</td>\n",
       "      <td>42.94</td>\n",
       "    </tr>\n",
       "  </tbody>\n",
       "</table>\n",
       "</div>"
      ],
      "text/plain": [
       "         Ali   X   Y  Mahshid  percentage\n",
       "Javad     37  47  60       87       43.93\n",
       "C         98  42  92       67       31.34\n",
       "Shabnam   38  42  55       67       43.30\n",
       "E         96  70  93       19       42.94"
      ]
     },
     "execution_count": 76,
     "metadata": {},
     "output_type": "execute_result"
    }
   ],
   "source": [
    "df"
   ]
  },
  {
   "cell_type": "code",
   "execution_count": 79,
   "metadata": {},
   "outputs": [
    {
     "data": {
      "text/html": [
       "<div>\n",
       "<style scoped>\n",
       "    .dataframe tbody tr th:only-of-type {\n",
       "        vertical-align: middle;\n",
       "    }\n",
       "\n",
       "    .dataframe tbody tr th {\n",
       "        vertical-align: top;\n",
       "    }\n",
       "\n",
       "    .dataframe thead th {\n",
       "        text-align: right;\n",
       "    }\n",
       "</style>\n",
       "<table border=\"1\" class=\"dataframe\">\n",
       "  <thead>\n",
       "    <tr style=\"text-align: right;\">\n",
       "      <th></th>\n",
       "      <th>Ali</th>\n",
       "      <th>X</th>\n",
       "      <th>Y</th>\n",
       "      <th>Mahshid</th>\n",
       "      <th>percentage</th>\n",
       "    </tr>\n",
       "  </thead>\n",
       "  <tbody>\n",
       "    <tr>\n",
       "      <th>Javad</th>\n",
       "      <td>37</td>\n",
       "      <td>47</td>\n",
       "      <td>60</td>\n",
       "      <td>87</td>\n",
       "      <td>43.93</td>\n",
       "    </tr>\n",
       "    <tr>\n",
       "      <th>C</th>\n",
       "      <td>98</td>\n",
       "      <td>42</td>\n",
       "      <td>92</td>\n",
       "      <td>67</td>\n",
       "      <td>31.34</td>\n",
       "    </tr>\n",
       "    <tr>\n",
       "      <th>Shabnam</th>\n",
       "      <td>38</td>\n",
       "      <td>42</td>\n",
       "      <td>55</td>\n",
       "      <td>67</td>\n",
       "      <td>43.30</td>\n",
       "    </tr>\n",
       "  </tbody>\n",
       "</table>\n",
       "</div>"
      ],
      "text/plain": [
       "         Ali   X   Y  Mahshid  percentage\n",
       "Javad     37  47  60       87       43.93\n",
       "C         98  42  92       67       31.34\n",
       "Shabnam   38  42  55       67       43.30"
      ]
     },
     "execution_count": 79,
     "metadata": {},
     "output_type": "execute_result"
    }
   ],
   "source": [
    "df.iloc[0:3]"
   ]
  },
  {
   "cell_type": "code",
   "execution_count": 80,
   "metadata": {},
   "outputs": [
    {
     "data": {
      "text/html": [
       "<div>\n",
       "<style scoped>\n",
       "    .dataframe tbody tr th:only-of-type {\n",
       "        vertical-align: middle;\n",
       "    }\n",
       "\n",
       "    .dataframe tbody tr th {\n",
       "        vertical-align: top;\n",
       "    }\n",
       "\n",
       "    .dataframe thead th {\n",
       "        text-align: right;\n",
       "    }\n",
       "</style>\n",
       "<table border=\"1\" class=\"dataframe\">\n",
       "  <thead>\n",
       "    <tr style=\"text-align: right;\">\n",
       "      <th></th>\n",
       "      <th>Y</th>\n",
       "      <th>Mahshid</th>\n",
       "    </tr>\n",
       "  </thead>\n",
       "  <tbody>\n",
       "    <tr>\n",
       "      <th>Javad</th>\n",
       "      <td>60</td>\n",
       "      <td>87</td>\n",
       "    </tr>\n",
       "    <tr>\n",
       "      <th>C</th>\n",
       "      <td>92</td>\n",
       "      <td>67</td>\n",
       "    </tr>\n",
       "    <tr>\n",
       "      <th>Shabnam</th>\n",
       "      <td>55</td>\n",
       "      <td>67</td>\n",
       "    </tr>\n",
       "  </tbody>\n",
       "</table>\n",
       "</div>"
      ],
      "text/plain": [
       "          Y  Mahshid\n",
       "Javad    60       87\n",
       "C        92       67\n",
       "Shabnam  55       67"
      ]
     },
     "execution_count": 80,
     "metadata": {},
     "output_type": "execute_result"
    }
   ],
   "source": [
    "df.iloc[0:3, 2:-1]"
   ]
  },
  {
   "cell_type": "code",
   "execution_count": 81,
   "metadata": {},
   "outputs": [
    {
     "data": {
      "text/html": [
       "<div>\n",
       "<style scoped>\n",
       "    .dataframe tbody tr th:only-of-type {\n",
       "        vertical-align: middle;\n",
       "    }\n",
       "\n",
       "    .dataframe tbody tr th {\n",
       "        vertical-align: top;\n",
       "    }\n",
       "\n",
       "    .dataframe thead th {\n",
       "        text-align: right;\n",
       "    }\n",
       "</style>\n",
       "<table border=\"1\" class=\"dataframe\">\n",
       "  <thead>\n",
       "    <tr style=\"text-align: right;\">\n",
       "      <th></th>\n",
       "      <th>Ali</th>\n",
       "      <th>Mahshid</th>\n",
       "    </tr>\n",
       "  </thead>\n",
       "  <tbody>\n",
       "    <tr>\n",
       "      <th>Javad</th>\n",
       "      <td>37</td>\n",
       "      <td>87</td>\n",
       "    </tr>\n",
       "    <tr>\n",
       "      <th>C</th>\n",
       "      <td>98</td>\n",
       "      <td>67</td>\n",
       "    </tr>\n",
       "    <tr>\n",
       "      <th>Shabnam</th>\n",
       "      <td>38</td>\n",
       "      <td>67</td>\n",
       "    </tr>\n",
       "  </tbody>\n",
       "</table>\n",
       "</div>"
      ],
      "text/plain": [
       "         Ali  Mahshid\n",
       "Javad     37       87\n",
       "C         98       67\n",
       "Shabnam   38       67"
      ]
     },
     "execution_count": 81,
     "metadata": {},
     "output_type": "execute_result"
    }
   ],
   "source": [
    "df.iloc[0:3, [0,3]]"
   ]
  },
  {
   "cell_type": "code",
   "execution_count": 83,
   "metadata": {},
   "outputs": [
    {
     "data": {
      "text/html": [
       "<div>\n",
       "<style scoped>\n",
       "    .dataframe tbody tr th:only-of-type {\n",
       "        vertical-align: middle;\n",
       "    }\n",
       "\n",
       "    .dataframe tbody tr th {\n",
       "        vertical-align: top;\n",
       "    }\n",
       "\n",
       "    .dataframe thead th {\n",
       "        text-align: right;\n",
       "    }\n",
       "</style>\n",
       "<table border=\"1\" class=\"dataframe\">\n",
       "  <thead>\n",
       "    <tr style=\"text-align: right;\">\n",
       "      <th></th>\n",
       "      <th>Y</th>\n",
       "      <th>Mahshid</th>\n",
       "    </tr>\n",
       "  </thead>\n",
       "  <tbody>\n",
       "    <tr>\n",
       "      <th>Javad</th>\n",
       "      <td>60</td>\n",
       "      <td>87</td>\n",
       "    </tr>\n",
       "    <tr>\n",
       "      <th>C</th>\n",
       "      <td>92</td>\n",
       "      <td>67</td>\n",
       "    </tr>\n",
       "    <tr>\n",
       "      <th>Shabnam</th>\n",
       "      <td>55</td>\n",
       "      <td>67</td>\n",
       "    </tr>\n",
       "    <tr>\n",
       "      <th>E</th>\n",
       "      <td>93</td>\n",
       "      <td>19</td>\n",
       "    </tr>\n",
       "  </tbody>\n",
       "</table>\n",
       "</div>"
      ],
      "text/plain": [
       "          Y  Mahshid\n",
       "Javad    60       87\n",
       "C        92       67\n",
       "Shabnam  55       67\n",
       "E        93       19"
      ]
     },
     "execution_count": 83,
     "metadata": {},
     "output_type": "execute_result"
    }
   ],
   "source": [
    "df.iloc[:, 2:4]"
   ]
  },
  {
   "cell_type": "code",
   "execution_count": 84,
   "metadata": {},
   "outputs": [
    {
     "data": {
      "text/html": [
       "<div>\n",
       "<style scoped>\n",
       "    .dataframe tbody tr th:only-of-type {\n",
       "        vertical-align: middle;\n",
       "    }\n",
       "\n",
       "    .dataframe tbody tr th {\n",
       "        vertical-align: top;\n",
       "    }\n",
       "\n",
       "    .dataframe thead th {\n",
       "        text-align: right;\n",
       "    }\n",
       "</style>\n",
       "<table border=\"1\" class=\"dataframe\">\n",
       "  <thead>\n",
       "    <tr style=\"text-align: right;\">\n",
       "      <th></th>\n",
       "      <th>Javad</th>\n",
       "      <th>C</th>\n",
       "      <th>Shabnam</th>\n",
       "      <th>E</th>\n",
       "    </tr>\n",
       "  </thead>\n",
       "  <tbody>\n",
       "    <tr>\n",
       "      <th>Ali</th>\n",
       "      <td>37.00</td>\n",
       "      <td>98.00</td>\n",
       "      <td>38.0</td>\n",
       "      <td>96.00</td>\n",
       "    </tr>\n",
       "    <tr>\n",
       "      <th>X</th>\n",
       "      <td>47.00</td>\n",
       "      <td>42.00</td>\n",
       "      <td>42.0</td>\n",
       "      <td>70.00</td>\n",
       "    </tr>\n",
       "    <tr>\n",
       "      <th>Y</th>\n",
       "      <td>60.00</td>\n",
       "      <td>92.00</td>\n",
       "      <td>55.0</td>\n",
       "      <td>93.00</td>\n",
       "    </tr>\n",
       "    <tr>\n",
       "      <th>Mahshid</th>\n",
       "      <td>87.00</td>\n",
       "      <td>67.00</td>\n",
       "      <td>67.0</td>\n",
       "      <td>19.00</td>\n",
       "    </tr>\n",
       "    <tr>\n",
       "      <th>percentage</th>\n",
       "      <td>43.93</td>\n",
       "      <td>31.34</td>\n",
       "      <td>43.3</td>\n",
       "      <td>42.94</td>\n",
       "    </tr>\n",
       "  </tbody>\n",
       "</table>\n",
       "</div>"
      ],
      "text/plain": [
       "            Javad      C  Shabnam      E\n",
       "Ali         37.00  98.00     38.0  96.00\n",
       "X           47.00  42.00     42.0  70.00\n",
       "Y           60.00  92.00     55.0  93.00\n",
       "Mahshid     87.00  67.00     67.0  19.00\n",
       "percentage  43.93  31.34     43.3  42.94"
      ]
     },
     "execution_count": 84,
     "metadata": {},
     "output_type": "execute_result"
    }
   ],
   "source": [
    "df.T"
   ]
  },
  {
   "cell_type": "markdown",
   "metadata": {},
   "source": [
    "### Filter"
   ]
  },
  {
   "cell_type": "code",
   "execution_count": 85,
   "metadata": {},
   "outputs": [
    {
     "data": {
      "text/html": [
       "<div>\n",
       "<style scoped>\n",
       "    .dataframe tbody tr th:only-of-type {\n",
       "        vertical-align: middle;\n",
       "    }\n",
       "\n",
       "    .dataframe tbody tr th {\n",
       "        vertical-align: top;\n",
       "    }\n",
       "\n",
       "    .dataframe thead th {\n",
       "        text-align: right;\n",
       "    }\n",
       "</style>\n",
       "<table border=\"1\" class=\"dataframe\">\n",
       "  <thead>\n",
       "    <tr style=\"text-align: right;\">\n",
       "      <th></th>\n",
       "      <th>Ali</th>\n",
       "      <th>X</th>\n",
       "      <th>Y</th>\n",
       "      <th>Mahshid</th>\n",
       "      <th>percentage</th>\n",
       "    </tr>\n",
       "  </thead>\n",
       "  <tbody>\n",
       "    <tr>\n",
       "      <th>Javad</th>\n",
       "      <td>37</td>\n",
       "      <td>47</td>\n",
       "      <td>60</td>\n",
       "      <td>87</td>\n",
       "      <td>43.93</td>\n",
       "    </tr>\n",
       "    <tr>\n",
       "      <th>C</th>\n",
       "      <td>98</td>\n",
       "      <td>42</td>\n",
       "      <td>92</td>\n",
       "      <td>67</td>\n",
       "      <td>31.34</td>\n",
       "    </tr>\n",
       "    <tr>\n",
       "      <th>Shabnam</th>\n",
       "      <td>38</td>\n",
       "      <td>42</td>\n",
       "      <td>55</td>\n",
       "      <td>67</td>\n",
       "      <td>43.30</td>\n",
       "    </tr>\n",
       "    <tr>\n",
       "      <th>E</th>\n",
       "      <td>96</td>\n",
       "      <td>70</td>\n",
       "      <td>93</td>\n",
       "      <td>19</td>\n",
       "      <td>42.94</td>\n",
       "    </tr>\n",
       "  </tbody>\n",
       "</table>\n",
       "</div>"
      ],
      "text/plain": [
       "         Ali   X   Y  Mahshid  percentage\n",
       "Javad     37  47  60       87       43.93\n",
       "C         98  42  92       67       31.34\n",
       "Shabnam   38  42  55       67       43.30\n",
       "E         96  70  93       19       42.94"
      ]
     },
     "execution_count": 85,
     "metadata": {},
     "output_type": "execute_result"
    }
   ],
   "source": [
    "df"
   ]
  },
  {
   "cell_type": "code",
   "execution_count": 86,
   "metadata": {},
   "outputs": [
    {
     "data": {
      "text/html": [
       "<div>\n",
       "<style scoped>\n",
       "    .dataframe tbody tr th:only-of-type {\n",
       "        vertical-align: middle;\n",
       "    }\n",
       "\n",
       "    .dataframe tbody tr th {\n",
       "        vertical-align: top;\n",
       "    }\n",
       "\n",
       "    .dataframe thead th {\n",
       "        text-align: right;\n",
       "    }\n",
       "</style>\n",
       "<table border=\"1\" class=\"dataframe\">\n",
       "  <thead>\n",
       "    <tr style=\"text-align: right;\">\n",
       "      <th></th>\n",
       "      <th>Ali</th>\n",
       "      <th>X</th>\n",
       "      <th>Y</th>\n",
       "      <th>Mahshid</th>\n",
       "      <th>percentage</th>\n",
       "    </tr>\n",
       "  </thead>\n",
       "  <tbody>\n",
       "    <tr>\n",
       "      <th>Javad</th>\n",
       "      <td>False</td>\n",
       "      <td>False</td>\n",
       "      <td>True</td>\n",
       "      <td>True</td>\n",
       "      <td>False</td>\n",
       "    </tr>\n",
       "    <tr>\n",
       "      <th>C</th>\n",
       "      <td>True</td>\n",
       "      <td>False</td>\n",
       "      <td>True</td>\n",
       "      <td>True</td>\n",
       "      <td>False</td>\n",
       "    </tr>\n",
       "    <tr>\n",
       "      <th>Shabnam</th>\n",
       "      <td>False</td>\n",
       "      <td>False</td>\n",
       "      <td>True</td>\n",
       "      <td>True</td>\n",
       "      <td>False</td>\n",
       "    </tr>\n",
       "    <tr>\n",
       "      <th>E</th>\n",
       "      <td>True</td>\n",
       "      <td>True</td>\n",
       "      <td>True</td>\n",
       "      <td>False</td>\n",
       "      <td>False</td>\n",
       "    </tr>\n",
       "  </tbody>\n",
       "</table>\n",
       "</div>"
      ],
      "text/plain": [
       "           Ali      X     Y  Mahshid  percentage\n",
       "Javad    False  False  True     True       False\n",
       "C         True  False  True     True       False\n",
       "Shabnam  False  False  True     True       False\n",
       "E         True   True  True    False       False"
      ]
     },
     "execution_count": 86,
     "metadata": {},
     "output_type": "execute_result"
    }
   ],
   "source": [
    "df > 50"
   ]
  },
  {
   "cell_type": "code",
   "execution_count": 88,
   "metadata": {},
   "outputs": [
    {
     "data": {
      "text/html": [
       "<div>\n",
       "<style scoped>\n",
       "    .dataframe tbody tr th:only-of-type {\n",
       "        vertical-align: middle;\n",
       "    }\n",
       "\n",
       "    .dataframe tbody tr th {\n",
       "        vertical-align: top;\n",
       "    }\n",
       "\n",
       "    .dataframe thead th {\n",
       "        text-align: right;\n",
       "    }\n",
       "</style>\n",
       "<table border=\"1\" class=\"dataframe\">\n",
       "  <thead>\n",
       "    <tr style=\"text-align: right;\">\n",
       "      <th></th>\n",
       "      <th>Ali</th>\n",
       "      <th>X</th>\n",
       "      <th>Y</th>\n",
       "      <th>Mahshid</th>\n",
       "      <th>percentage</th>\n",
       "    </tr>\n",
       "  </thead>\n",
       "  <tbody>\n",
       "    <tr>\n",
       "      <th>Javad</th>\n",
       "      <td>NaN</td>\n",
       "      <td>NaN</td>\n",
       "      <td>60</td>\n",
       "      <td>87.0</td>\n",
       "      <td>NaN</td>\n",
       "    </tr>\n",
       "    <tr>\n",
       "      <th>C</th>\n",
       "      <td>98.0</td>\n",
       "      <td>NaN</td>\n",
       "      <td>92</td>\n",
       "      <td>67.0</td>\n",
       "      <td>NaN</td>\n",
       "    </tr>\n",
       "    <tr>\n",
       "      <th>Shabnam</th>\n",
       "      <td>NaN</td>\n",
       "      <td>NaN</td>\n",
       "      <td>55</td>\n",
       "      <td>67.0</td>\n",
       "      <td>NaN</td>\n",
       "    </tr>\n",
       "    <tr>\n",
       "      <th>E</th>\n",
       "      <td>96.0</td>\n",
       "      <td>70.0</td>\n",
       "      <td>93</td>\n",
       "      <td>NaN</td>\n",
       "      <td>NaN</td>\n",
       "    </tr>\n",
       "  </tbody>\n",
       "</table>\n",
       "</div>"
      ],
      "text/plain": [
       "          Ali     X   Y  Mahshid  percentage\n",
       "Javad     NaN   NaN  60     87.0         NaN\n",
       "C        98.0   NaN  92     67.0         NaN\n",
       "Shabnam   NaN   NaN  55     67.0         NaN\n",
       "E        96.0  70.0  93      NaN         NaN"
      ]
     },
     "execution_count": 88,
     "metadata": {},
     "output_type": "execute_result"
    }
   ],
   "source": [
    "df[df > 50]"
   ]
  },
  {
   "cell_type": "code",
   "execution_count": 89,
   "metadata": {},
   "outputs": [
    {
     "data": {
      "text/html": [
       "<div>\n",
       "<style scoped>\n",
       "    .dataframe tbody tr th:only-of-type {\n",
       "        vertical-align: middle;\n",
       "    }\n",
       "\n",
       "    .dataframe tbody tr th {\n",
       "        vertical-align: top;\n",
       "    }\n",
       "\n",
       "    .dataframe thead th {\n",
       "        text-align: right;\n",
       "    }\n",
       "</style>\n",
       "<table border=\"1\" class=\"dataframe\">\n",
       "  <thead>\n",
       "    <tr style=\"text-align: right;\">\n",
       "      <th></th>\n",
       "      <th>Ali</th>\n",
       "      <th>X</th>\n",
       "      <th>Y</th>\n",
       "      <th>Mahshid</th>\n",
       "      <th>percentage</th>\n",
       "    </tr>\n",
       "  </thead>\n",
       "  <tbody>\n",
       "    <tr>\n",
       "      <th>C</th>\n",
       "      <td>98</td>\n",
       "      <td>42</td>\n",
       "      <td>92</td>\n",
       "      <td>67</td>\n",
       "      <td>31.34</td>\n",
       "    </tr>\n",
       "    <tr>\n",
       "      <th>E</th>\n",
       "      <td>96</td>\n",
       "      <td>70</td>\n",
       "      <td>93</td>\n",
       "      <td>19</td>\n",
       "      <td>42.94</td>\n",
       "    </tr>\n",
       "  </tbody>\n",
       "</table>\n",
       "</div>"
      ],
      "text/plain": [
       "   Ali   X   Y  Mahshid  percentage\n",
       "C   98  42  92       67       31.34\n",
       "E   96  70  93       19       42.94"
      ]
     },
     "execution_count": 89,
     "metadata": {},
     "output_type": "execute_result"
    }
   ],
   "source": [
    "df[df['Ali'] > 50]"
   ]
  },
  {
   "cell_type": "code",
   "execution_count": 90,
   "metadata": {},
   "outputs": [
    {
     "data": {
      "text/html": [
       "<div>\n",
       "<style scoped>\n",
       "    .dataframe tbody tr th:only-of-type {\n",
       "        vertical-align: middle;\n",
       "    }\n",
       "\n",
       "    .dataframe tbody tr th {\n",
       "        vertical-align: top;\n",
       "    }\n",
       "\n",
       "    .dataframe thead th {\n",
       "        text-align: right;\n",
       "    }\n",
       "</style>\n",
       "<table border=\"1\" class=\"dataframe\">\n",
       "  <thead>\n",
       "    <tr style=\"text-align: right;\">\n",
       "      <th></th>\n",
       "      <th>Ali</th>\n",
       "      <th>X</th>\n",
       "      <th>Y</th>\n",
       "      <th>Mahshid</th>\n",
       "      <th>percentage</th>\n",
       "    </tr>\n",
       "  </thead>\n",
       "  <tbody>\n",
       "    <tr>\n",
       "      <th>C</th>\n",
       "      <td>98</td>\n",
       "      <td>42</td>\n",
       "      <td>92</td>\n",
       "      <td>67</td>\n",
       "      <td>31.34</td>\n",
       "    </tr>\n",
       "    <tr>\n",
       "      <th>E</th>\n",
       "      <td>96</td>\n",
       "      <td>70</td>\n",
       "      <td>93</td>\n",
       "      <td>19</td>\n",
       "      <td>42.94</td>\n",
       "    </tr>\n",
       "  </tbody>\n",
       "</table>\n",
       "</div>"
      ],
      "text/plain": [
       "   Ali   X   Y  Mahshid  percentage\n",
       "C   98  42  92       67       31.34\n",
       "E   96  70  93       19       42.94"
      ]
     },
     "execution_count": 90,
     "metadata": {},
     "output_type": "execute_result"
    }
   ],
   "source": [
    "df[df['Ali'] > df['X']]"
   ]
  },
  {
   "cell_type": "code",
   "execution_count": 91,
   "metadata": {},
   "outputs": [
    {
     "data": {
      "text/html": [
       "<div>\n",
       "<style scoped>\n",
       "    .dataframe tbody tr th:only-of-type {\n",
       "        vertical-align: middle;\n",
       "    }\n",
       "\n",
       "    .dataframe tbody tr th {\n",
       "        vertical-align: top;\n",
       "    }\n",
       "\n",
       "    .dataframe thead th {\n",
       "        text-align: right;\n",
       "    }\n",
       "</style>\n",
       "<table border=\"1\" class=\"dataframe\">\n",
       "  <thead>\n",
       "    <tr style=\"text-align: right;\">\n",
       "      <th></th>\n",
       "      <th>Ali</th>\n",
       "      <th>X</th>\n",
       "      <th>Y</th>\n",
       "      <th>Mahshid</th>\n",
       "      <th>percentage</th>\n",
       "    </tr>\n",
       "  </thead>\n",
       "  <tbody>\n",
       "    <tr>\n",
       "      <th>Javad</th>\n",
       "      <td>37</td>\n",
       "      <td>47</td>\n",
       "      <td>60</td>\n",
       "      <td>87</td>\n",
       "      <td>43.93</td>\n",
       "    </tr>\n",
       "    <tr>\n",
       "      <th>C</th>\n",
       "      <td>98</td>\n",
       "      <td>42</td>\n",
       "      <td>92</td>\n",
       "      <td>67</td>\n",
       "      <td>31.34</td>\n",
       "    </tr>\n",
       "    <tr>\n",
       "      <th>Shabnam</th>\n",
       "      <td>38</td>\n",
       "      <td>42</td>\n",
       "      <td>55</td>\n",
       "      <td>67</td>\n",
       "      <td>43.30</td>\n",
       "    </tr>\n",
       "    <tr>\n",
       "      <th>E</th>\n",
       "      <td>96</td>\n",
       "      <td>70</td>\n",
       "      <td>93</td>\n",
       "      <td>19</td>\n",
       "      <td>42.94</td>\n",
       "    </tr>\n",
       "  </tbody>\n",
       "</table>\n",
       "</div>"
      ],
      "text/plain": [
       "         Ali   X   Y  Mahshid  percentage\n",
       "Javad     37  47  60       87       43.93\n",
       "C         98  42  92       67       31.34\n",
       "Shabnam   38  42  55       67       43.30\n",
       "E         96  70  93       19       42.94"
      ]
     },
     "execution_count": 91,
     "metadata": {},
     "output_type": "execute_result"
    }
   ],
   "source": [
    "df"
   ]
  },
  {
   "cell_type": "code",
   "execution_count": 92,
   "metadata": {},
   "outputs": [
    {
     "data": {
      "text/plain": [
       "Javad      False\n",
       "C           True\n",
       "Shabnam    False\n",
       "E           True\n",
       "Name: Ali, dtype: bool"
      ]
     },
     "execution_count": 92,
     "metadata": {},
     "output_type": "execute_result"
    }
   ],
   "source": [
    "df['Ali'] > 50"
   ]
  },
  {
   "cell_type": "code",
   "execution_count": 94,
   "metadata": {},
   "outputs": [
    {
     "data": {
      "text/html": [
       "<div>\n",
       "<style scoped>\n",
       "    .dataframe tbody tr th:only-of-type {\n",
       "        vertical-align: middle;\n",
       "    }\n",
       "\n",
       "    .dataframe tbody tr th {\n",
       "        vertical-align: top;\n",
       "    }\n",
       "\n",
       "    .dataframe thead th {\n",
       "        text-align: right;\n",
       "    }\n",
       "</style>\n",
       "<table border=\"1\" class=\"dataframe\">\n",
       "  <thead>\n",
       "    <tr style=\"text-align: right;\">\n",
       "      <th></th>\n",
       "      <th>Ali</th>\n",
       "      <th>X</th>\n",
       "      <th>Y</th>\n",
       "      <th>Mahshid</th>\n",
       "      <th>percentage</th>\n",
       "    </tr>\n",
       "  </thead>\n",
       "  <tbody>\n",
       "    <tr>\n",
       "      <th>C</th>\n",
       "      <td>98</td>\n",
       "      <td>42</td>\n",
       "      <td>92</td>\n",
       "      <td>67</td>\n",
       "      <td>31.34</td>\n",
       "    </tr>\n",
       "    <tr>\n",
       "      <th>E</th>\n",
       "      <td>96</td>\n",
       "      <td>70</td>\n",
       "      <td>93</td>\n",
       "      <td>19</td>\n",
       "      <td>42.94</td>\n",
       "    </tr>\n",
       "  </tbody>\n",
       "</table>\n",
       "</div>"
      ],
      "text/plain": [
       "   Ali   X   Y  Mahshid  percentage\n",
       "C   98  42  92       67       31.34\n",
       "E   96  70  93       19       42.94"
      ]
     },
     "execution_count": 94,
     "metadata": {},
     "output_type": "execute_result"
    }
   ],
   "source": [
    "df[df['Ali']>50]"
   ]
  },
  {
   "cell_type": "code",
   "execution_count": 95,
   "metadata": {},
   "outputs": [
    {
     "data": {
      "text/plain": [
       "Javad      False\n",
       "C           True\n",
       "Shabnam    False\n",
       "E          False\n",
       "dtype: bool"
      ]
     },
     "execution_count": 95,
     "metadata": {},
     "output_type": "execute_result"
    }
   ],
   "source": [
    "(df['Ali']>50) & (df['percentage']<40)"
   ]
  },
  {
   "cell_type": "code",
   "execution_count": 96,
   "metadata": {},
   "outputs": [
    {
     "data": {
      "text/html": [
       "<div>\n",
       "<style scoped>\n",
       "    .dataframe tbody tr th:only-of-type {\n",
       "        vertical-align: middle;\n",
       "    }\n",
       "\n",
       "    .dataframe tbody tr th {\n",
       "        vertical-align: top;\n",
       "    }\n",
       "\n",
       "    .dataframe thead th {\n",
       "        text-align: right;\n",
       "    }\n",
       "</style>\n",
       "<table border=\"1\" class=\"dataframe\">\n",
       "  <thead>\n",
       "    <tr style=\"text-align: right;\">\n",
       "      <th></th>\n",
       "      <th>Ali</th>\n",
       "      <th>X</th>\n",
       "      <th>Y</th>\n",
       "      <th>Mahshid</th>\n",
       "      <th>percentage</th>\n",
       "    </tr>\n",
       "  </thead>\n",
       "  <tbody>\n",
       "    <tr>\n",
       "      <th>C</th>\n",
       "      <td>98</td>\n",
       "      <td>42</td>\n",
       "      <td>92</td>\n",
       "      <td>67</td>\n",
       "      <td>31.34</td>\n",
       "    </tr>\n",
       "  </tbody>\n",
       "</table>\n",
       "</div>"
      ],
      "text/plain": [
       "   Ali   X   Y  Mahshid  percentage\n",
       "C   98  42  92       67       31.34"
      ]
     },
     "execution_count": 96,
     "metadata": {},
     "output_type": "execute_result"
    }
   ],
   "source": [
    "df[(df['Ali']>50) & (df['percentage']<40)]"
   ]
  },
  {
   "cell_type": "markdown",
   "metadata": {},
   "source": [
    "## Read data"
   ]
  },
  {
   "cell_type": "markdown",
   "metadata": {},
   "source": [
    "### - Human development index (HDI)\n",
    "<b> Source:  [UNITED NATIONS DEVELOPMENT PROGRAMME (Human Development Reports)](http://hdr.undp.org/en/indicators/137506#)"
   ]
  },
  {
   "cell_type": "code",
   "execution_count": null,
   "metadata": {},
   "outputs": [],
   "source": []
  },
  {
   "cell_type": "markdown",
   "metadata": {},
   "source": [
    "### - Real GDP Growth (Annual percent change) (IMF)\n",
    "<b> Source:  [International Monetary Fund (IMF)](https://www.imf.org/external/datamapper/NGDP_RPCH@WEO)"
   ]
  },
  {
   "cell_type": "code",
   "execution_count": 108,
   "metadata": {},
   "outputs": [
    {
     "data": {
      "text/html": [
       "<div>\n",
       "<style scoped>\n",
       "    .dataframe tbody tr th:only-of-type {\n",
       "        vertical-align: middle;\n",
       "    }\n",
       "\n",
       "    .dataframe tbody tr th {\n",
       "        vertical-align: top;\n",
       "    }\n",
       "\n",
       "    .dataframe thead th {\n",
       "        text-align: right;\n",
       "    }\n",
       "</style>\n",
       "<table border=\"1\" class=\"dataframe\">\n",
       "  <thead>\n",
       "    <tr style=\"text-align: right;\">\n",
       "      <th></th>\n",
       "      <th>year</th>\n",
       "      <th>Australia</th>\n",
       "      <th>Canada</th>\n",
       "      <th>China, People's Republic of</th>\n",
       "      <th>Iran</th>\n",
       "      <th>Norway</th>\n",
       "      <th>Russian Federation</th>\n",
       "      <th>United States</th>\n",
       "    </tr>\n",
       "  </thead>\n",
       "  <tbody>\n",
       "    <tr>\n",
       "      <th>0</th>\n",
       "      <td>1980</td>\n",
       "      <td>2.9</td>\n",
       "      <td>2.2</td>\n",
       "      <td>7.9</td>\n",
       "      <td>-18.8</td>\n",
       "      <td>4.5</td>\n",
       "      <td>NaN</td>\n",
       "      <td>-0.3</td>\n",
       "    </tr>\n",
       "    <tr>\n",
       "      <th>1</th>\n",
       "      <td>1981</td>\n",
       "      <td>4.1</td>\n",
       "      <td>3.5</td>\n",
       "      <td>5.1</td>\n",
       "      <td>-8.6</td>\n",
       "      <td>1.6</td>\n",
       "      <td>NaN</td>\n",
       "      <td>2.5</td>\n",
       "    </tr>\n",
       "    <tr>\n",
       "      <th>2</th>\n",
       "      <td>1982</td>\n",
       "      <td>0.1</td>\n",
       "      <td>-3.2</td>\n",
       "      <td>9.0</td>\n",
       "      <td>13.1</td>\n",
       "      <td>0.2</td>\n",
       "      <td>NaN</td>\n",
       "      <td>-1.8</td>\n",
       "    </tr>\n",
       "    <tr>\n",
       "      <th>3</th>\n",
       "      <td>1983</td>\n",
       "      <td>-0.5</td>\n",
       "      <td>2.6</td>\n",
       "      <td>10.8</td>\n",
       "      <td>13.8</td>\n",
       "      <td>4.0</td>\n",
       "      <td>NaN</td>\n",
       "      <td>4.6</td>\n",
       "    </tr>\n",
       "    <tr>\n",
       "      <th>4</th>\n",
       "      <td>1984</td>\n",
       "      <td>6.3</td>\n",
       "      <td>5.9</td>\n",
       "      <td>15.2</td>\n",
       "      <td>-9.9</td>\n",
       "      <td>6.1</td>\n",
       "      <td>NaN</td>\n",
       "      <td>7.2</td>\n",
       "    </tr>\n",
       "  </tbody>\n",
       "</table>\n",
       "</div>"
      ],
      "text/plain": [
       "   year  Australia  Canada  China, People's Republic of  Iran  Norway  \\\n",
       "0  1980        2.9     2.2                          7.9 -18.8     4.5   \n",
       "1  1981        4.1     3.5                          5.1  -8.6     1.6   \n",
       "2  1982        0.1    -3.2                          9.0  13.1     0.2   \n",
       "3  1983       -0.5     2.6                         10.8  13.8     4.0   \n",
       "4  1984        6.3     5.9                         15.2  -9.9     6.1   \n",
       "\n",
       "   Russian Federation  United States  \n",
       "0                 NaN           -0.3  \n",
       "1                 NaN            2.5  \n",
       "2                 NaN           -1.8  \n",
       "3                 NaN            4.6  \n",
       "4                 NaN            7.2  "
      ]
     },
     "execution_count": 108,
     "metadata": {},
     "output_type": "execute_result"
    }
   ],
   "source": [
    "growth = pd.read_excel('Real GDP Growth (IMF).xlsx', sheet_name='growth_1')\n",
    "growth.head()"
   ]
  },
  {
   "cell_type": "code",
   "execution_count": 109,
   "metadata": {},
   "outputs": [
    {
     "data": {
      "text/html": [
       "<div>\n",
       "<style scoped>\n",
       "    .dataframe tbody tr th:only-of-type {\n",
       "        vertical-align: middle;\n",
       "    }\n",
       "\n",
       "    .dataframe tbody tr th {\n",
       "        vertical-align: top;\n",
       "    }\n",
       "\n",
       "    .dataframe thead th {\n",
       "        text-align: right;\n",
       "    }\n",
       "</style>\n",
       "<table border=\"1\" class=\"dataframe\">\n",
       "  <thead>\n",
       "    <tr style=\"text-align: right;\">\n",
       "      <th></th>\n",
       "      <th>year</th>\n",
       "      <th>Australia</th>\n",
       "      <th>Canada</th>\n",
       "      <th>China, People's Republic of</th>\n",
       "      <th>Iran</th>\n",
       "      <th>Norway</th>\n",
       "      <th>Russian Federation</th>\n",
       "      <th>United States</th>\n",
       "    </tr>\n",
       "  </thead>\n",
       "  <tbody>\n",
       "    <tr>\n",
       "      <th>42</th>\n",
       "      <td>2022</td>\n",
       "      <td>2.8</td>\n",
       "      <td>4.7</td>\n",
       "      <td>5.6</td>\n",
       "      <td>2.1</td>\n",
       "      <td>4.0</td>\n",
       "      <td>3.8</td>\n",
       "      <td>3.5</td>\n",
       "    </tr>\n",
       "    <tr>\n",
       "      <th>43</th>\n",
       "      <td>2023</td>\n",
       "      <td>2.3</td>\n",
       "      <td>2.2</td>\n",
       "      <td>5.4</td>\n",
       "      <td>2.1</td>\n",
       "      <td>2.8</td>\n",
       "      <td>2.1</td>\n",
       "      <td>1.4</td>\n",
       "    </tr>\n",
       "    <tr>\n",
       "      <th>44</th>\n",
       "      <td>2024</td>\n",
       "      <td>2.3</td>\n",
       "      <td>1.4</td>\n",
       "      <td>5.3</td>\n",
       "      <td>2.1</td>\n",
       "      <td>2.1</td>\n",
       "      <td>1.8</td>\n",
       "      <td>1.5</td>\n",
       "    </tr>\n",
       "    <tr>\n",
       "      <th>45</th>\n",
       "      <td>2025</td>\n",
       "      <td>2.4</td>\n",
       "      <td>1.4</td>\n",
       "      <td>5.1</td>\n",
       "      <td>2.1</td>\n",
       "      <td>1.9</td>\n",
       "      <td>1.8</td>\n",
       "      <td>1.6</td>\n",
       "    </tr>\n",
       "    <tr>\n",
       "      <th>46</th>\n",
       "      <td>2026</td>\n",
       "      <td>2.5</td>\n",
       "      <td>1.5</td>\n",
       "      <td>4.9</td>\n",
       "      <td>2.1</td>\n",
       "      <td>1.7</td>\n",
       "      <td>1.8</td>\n",
       "      <td>1.6</td>\n",
       "    </tr>\n",
       "  </tbody>\n",
       "</table>\n",
       "</div>"
      ],
      "text/plain": [
       "    year  Australia  Canada  China, People's Republic of  Iran  Norway  \\\n",
       "42  2022        2.8     4.7                          5.6   2.1     4.0   \n",
       "43  2023        2.3     2.2                          5.4   2.1     2.8   \n",
       "44  2024        2.3     1.4                          5.3   2.1     2.1   \n",
       "45  2025        2.4     1.4                          5.1   2.1     1.9   \n",
       "46  2026        2.5     1.5                          4.9   2.1     1.7   \n",
       "\n",
       "    Russian Federation  United States  \n",
       "42                 3.8            3.5  \n",
       "43                 2.1            1.4  \n",
       "44                 1.8            1.5  \n",
       "45                 1.8            1.6  \n",
       "46                 1.8            1.6  "
      ]
     },
     "execution_count": 109,
     "metadata": {},
     "output_type": "execute_result"
    }
   ],
   "source": [
    "growth.tail()"
   ]
  },
  {
   "cell_type": "code",
   "execution_count": 110,
   "metadata": {},
   "outputs": [
    {
     "data": {
      "text/plain": [
       "(47, 8)"
      ]
     },
     "execution_count": 110,
     "metadata": {},
     "output_type": "execute_result"
    }
   ],
   "source": [
    "growth.shape"
   ]
  },
  {
   "cell_type": "code",
   "execution_count": 111,
   "metadata": {},
   "outputs": [
    {
     "data": {
      "text/plain": [
       "Index(['year', 'Australia', 'Canada', 'China, People's Republic of', 'Iran',\n",
       "       'Norway', 'Russian Federation', 'United States'],\n",
       "      dtype='object')"
      ]
     },
     "execution_count": 111,
     "metadata": {},
     "output_type": "execute_result"
    }
   ],
   "source": [
    "growth.columns"
   ]
  },
  {
   "cell_type": "code",
   "execution_count": 112,
   "metadata": {},
   "outputs": [
    {
     "data": {
      "text/plain": [
       "RangeIndex(start=0, stop=47, step=1)"
      ]
     },
     "execution_count": 112,
     "metadata": {},
     "output_type": "execute_result"
    }
   ],
   "source": [
    "growth.index"
   ]
  },
  {
   "cell_type": "code",
   "execution_count": 113,
   "metadata": {},
   "outputs": [],
   "source": [
    "growth.set_index('year', inplace=True)"
   ]
  },
  {
   "cell_type": "code",
   "execution_count": 114,
   "metadata": {},
   "outputs": [
    {
     "data": {
      "text/html": [
       "<div>\n",
       "<style scoped>\n",
       "    .dataframe tbody tr th:only-of-type {\n",
       "        vertical-align: middle;\n",
       "    }\n",
       "\n",
       "    .dataframe tbody tr th {\n",
       "        vertical-align: top;\n",
       "    }\n",
       "\n",
       "    .dataframe thead th {\n",
       "        text-align: right;\n",
       "    }\n",
       "</style>\n",
       "<table border=\"1\" class=\"dataframe\">\n",
       "  <thead>\n",
       "    <tr style=\"text-align: right;\">\n",
       "      <th></th>\n",
       "      <th>Australia</th>\n",
       "      <th>Canada</th>\n",
       "      <th>China, People's Republic of</th>\n",
       "      <th>Iran</th>\n",
       "      <th>Norway</th>\n",
       "      <th>Russian Federation</th>\n",
       "      <th>United States</th>\n",
       "    </tr>\n",
       "    <tr>\n",
       "      <th>year</th>\n",
       "      <th></th>\n",
       "      <th></th>\n",
       "      <th></th>\n",
       "      <th></th>\n",
       "      <th></th>\n",
       "      <th></th>\n",
       "      <th></th>\n",
       "    </tr>\n",
       "  </thead>\n",
       "  <tbody>\n",
       "    <tr>\n",
       "      <th>1980</th>\n",
       "      <td>2.9</td>\n",
       "      <td>2.2</td>\n",
       "      <td>7.9</td>\n",
       "      <td>-18.8</td>\n",
       "      <td>4.5</td>\n",
       "      <td>NaN</td>\n",
       "      <td>-0.3</td>\n",
       "    </tr>\n",
       "    <tr>\n",
       "      <th>1981</th>\n",
       "      <td>4.1</td>\n",
       "      <td>3.5</td>\n",
       "      <td>5.1</td>\n",
       "      <td>-8.6</td>\n",
       "      <td>1.6</td>\n",
       "      <td>NaN</td>\n",
       "      <td>2.5</td>\n",
       "    </tr>\n",
       "    <tr>\n",
       "      <th>1982</th>\n",
       "      <td>0.1</td>\n",
       "      <td>-3.2</td>\n",
       "      <td>9.0</td>\n",
       "      <td>13.1</td>\n",
       "      <td>0.2</td>\n",
       "      <td>NaN</td>\n",
       "      <td>-1.8</td>\n",
       "    </tr>\n",
       "    <tr>\n",
       "      <th>1983</th>\n",
       "      <td>-0.5</td>\n",
       "      <td>2.6</td>\n",
       "      <td>10.8</td>\n",
       "      <td>13.8</td>\n",
       "      <td>4.0</td>\n",
       "      <td>NaN</td>\n",
       "      <td>4.6</td>\n",
       "    </tr>\n",
       "    <tr>\n",
       "      <th>1984</th>\n",
       "      <td>6.3</td>\n",
       "      <td>5.9</td>\n",
       "      <td>15.2</td>\n",
       "      <td>-9.9</td>\n",
       "      <td>6.1</td>\n",
       "      <td>NaN</td>\n",
       "      <td>7.2</td>\n",
       "    </tr>\n",
       "  </tbody>\n",
       "</table>\n",
       "</div>"
      ],
      "text/plain": [
       "      Australia  Canada  China, People's Republic of  Iran  Norway  \\\n",
       "year                                                                 \n",
       "1980        2.9     2.2                          7.9 -18.8     4.5   \n",
       "1981        4.1     3.5                          5.1  -8.6     1.6   \n",
       "1982        0.1    -3.2                          9.0  13.1     0.2   \n",
       "1983       -0.5     2.6                         10.8  13.8     4.0   \n",
       "1984        6.3     5.9                         15.2  -9.9     6.1   \n",
       "\n",
       "      Russian Federation  United States  \n",
       "year                                     \n",
       "1980                 NaN           -0.3  \n",
       "1981                 NaN            2.5  \n",
       "1982                 NaN           -1.8  \n",
       "1983                 NaN            4.6  \n",
       "1984                 NaN            7.2  "
      ]
     },
     "execution_count": 114,
     "metadata": {},
     "output_type": "execute_result"
    }
   ],
   "source": [
    "growth.head()"
   ]
  },
  {
   "cell_type": "code",
   "execution_count": 115,
   "metadata": {},
   "outputs": [
    {
     "data": {
      "text/plain": [
       "Index(['Australia', 'Canada', 'China, People's Republic of', 'Iran', 'Norway',\n",
       "       'Russian Federation', 'United States'],\n",
       "      dtype='object')"
      ]
     },
     "execution_count": 115,
     "metadata": {},
     "output_type": "execute_result"
    }
   ],
   "source": [
    "growth.columns"
   ]
  },
  {
   "cell_type": "code",
   "execution_count": 116,
   "metadata": {},
   "outputs": [],
   "source": [
    "growth = growth.rename(columns={\"China, People's Republic of\": 'China', \"Russian Federation\": \"Russian\"})"
   ]
  },
  {
   "cell_type": "code",
   "execution_count": 120,
   "metadata": {},
   "outputs": [
    {
     "data": {
      "text/html": [
       "<div>\n",
       "<style scoped>\n",
       "    .dataframe tbody tr th:only-of-type {\n",
       "        vertical-align: middle;\n",
       "    }\n",
       "\n",
       "    .dataframe tbody tr th {\n",
       "        vertical-align: top;\n",
       "    }\n",
       "\n",
       "    .dataframe thead th {\n",
       "        text-align: right;\n",
       "    }\n",
       "</style>\n",
       "<table border=\"1\" class=\"dataframe\">\n",
       "  <thead>\n",
       "    <tr style=\"text-align: right;\">\n",
       "      <th></th>\n",
       "      <th>Australia</th>\n",
       "      <th>Canada</th>\n",
       "      <th>China</th>\n",
       "      <th>Iran</th>\n",
       "      <th>Norway</th>\n",
       "      <th>Russian</th>\n",
       "      <th>United States</th>\n",
       "    </tr>\n",
       "    <tr>\n",
       "      <th>year</th>\n",
       "      <th></th>\n",
       "      <th></th>\n",
       "      <th></th>\n",
       "      <th></th>\n",
       "      <th></th>\n",
       "      <th></th>\n",
       "      <th></th>\n",
       "    </tr>\n",
       "  </thead>\n",
       "  <tbody>\n",
       "    <tr>\n",
       "      <th>1980</th>\n",
       "      <td>2.9</td>\n",
       "      <td>2.2</td>\n",
       "      <td>7.9</td>\n",
       "      <td>-18.8</td>\n",
       "      <td>4.5</td>\n",
       "      <td>NaN</td>\n",
       "      <td>-0.3</td>\n",
       "    </tr>\n",
       "    <tr>\n",
       "      <th>1981</th>\n",
       "      <td>4.1</td>\n",
       "      <td>3.5</td>\n",
       "      <td>5.1</td>\n",
       "      <td>-8.6</td>\n",
       "      <td>1.6</td>\n",
       "      <td>NaN</td>\n",
       "      <td>2.5</td>\n",
       "    </tr>\n",
       "    <tr>\n",
       "      <th>1982</th>\n",
       "      <td>0.1</td>\n",
       "      <td>-3.2</td>\n",
       "      <td>9.0</td>\n",
       "      <td>13.1</td>\n",
       "      <td>0.2</td>\n",
       "      <td>NaN</td>\n",
       "      <td>-1.8</td>\n",
       "    </tr>\n",
       "    <tr>\n",
       "      <th>1983</th>\n",
       "      <td>-0.5</td>\n",
       "      <td>2.6</td>\n",
       "      <td>10.8</td>\n",
       "      <td>13.8</td>\n",
       "      <td>4.0</td>\n",
       "      <td>NaN</td>\n",
       "      <td>4.6</td>\n",
       "    </tr>\n",
       "    <tr>\n",
       "      <th>1984</th>\n",
       "      <td>6.3</td>\n",
       "      <td>5.9</td>\n",
       "      <td>15.2</td>\n",
       "      <td>-9.9</td>\n",
       "      <td>6.1</td>\n",
       "      <td>NaN</td>\n",
       "      <td>7.2</td>\n",
       "    </tr>\n",
       "  </tbody>\n",
       "</table>\n",
       "</div>"
      ],
      "text/plain": [
       "      Australia  Canada  China  Iran  Norway  Russian  United States\n",
       "year                                                                \n",
       "1980        2.9     2.2    7.9 -18.8     4.5      NaN           -0.3\n",
       "1981        4.1     3.5    5.1  -8.6     1.6      NaN            2.5\n",
       "1982        0.1    -3.2    9.0  13.1     0.2      NaN           -1.8\n",
       "1983       -0.5     2.6   10.8  13.8     4.0      NaN            4.6\n",
       "1984        6.3     5.9   15.2  -9.9     6.1      NaN            7.2"
      ]
     },
     "execution_count": 120,
     "metadata": {},
     "output_type": "execute_result"
    }
   ],
   "source": [
    "growth.head()"
   ]
  },
  {
   "cell_type": "code",
   "execution_count": 138,
   "metadata": {},
   "outputs": [
    {
     "data": {
      "text/plain": [
       "[]"
      ]
     },
     "execution_count": 138,
     "metadata": {},
     "output_type": "execute_result"
    },
    {
     "data": {
      "image/png": "[encoded data removed]",
      "text/plain": [
       "<Figure size 1080x504 with 1 Axes>"
      ]
     },
     "metadata": {
      "needs_background": "light"
     },
     "output_type": "display_data"
    }
   ],
   "source": [
    "growth.plot(y = \"Iran\",\n",
    "            kind = 'line',\n",
    "            figsize = (15,7), fontsize = 16, linewidth = 3)\n",
    "\n",
    "plt.grid(ls = '--', c='gray')\n",
    "plt.xlabel('Year', fontsize = 14, fontname = 'Times New Roman')\n",
    "plt.ylabel('Growth rate', fontsize = 14, fontname = 'Times New Roman')\n",
    "plt.title(\"Iran's Real GDP Growth\\nSince 1980-2025\",fontsize = 16, fontname = 'Times New Roman' )\n",
    "\n",
    "plt.legend(loc = 'best', fontsize = 'large')\n",
    "\n",
    "plt.figtext(0.125, 0.02, 'Source = https://www.imf.org/external/datamapper/NGDP_RPCH@WEO')\n",
    "\n",
    "plt.xlim((1980,2025))\n",
    "plt.axhline(3, c ='k', ls = '--', alpha = 0.7)\n",
    "\n",
    "#plt.savefig('Iran GDP Growth IMF.jpg', dpi = 700)\n",
    "\n",
    "plt.plot()"
   ]
  },
  {
   "cell_type": "code",
   "execution_count": 139,
   "metadata": {},
   "outputs": [
    {
     "data": {
      "text/plain": [
       "Index(['Australia', 'Canada', 'China', 'Iran', 'Norway', 'Russian',\n",
       "       'United States'],\n",
       "      dtype='object')"
      ]
     },
     "execution_count": 139,
     "metadata": {},
     "output_type": "execute_result"
    }
   ],
   "source": [
    "growth.columns"
   ]
  },
  {
   "cell_type": "code",
   "execution_count": 170,
   "metadata": {},
   "outputs": [
    {
     "data": {
      "image/png": "[encoded data removed]",
      "text/plain": [
       "<Figure size 1080x504 with 1 Axes>"
      ]
     },
     "metadata": {
      "needs_background": "light"
     },
     "output_type": "display_data"
    }
   ],
   "source": [
    "growth.plot(y = ['Australia','Canada', \"Iran\", 'Norway', 'United States'],\n",
    "            #,'China']\n",
    "            kind = 'line',\n",
    "            figsize = (15,7), fontsize = 16, linewidth = 3)\n",
    "\n",
    "plt.grid(ls = '--', c='gray')\n",
    "plt.xlabel('Year', fontsize = 14, fontname = 'Times New Roman')\n",
    "plt.ylabel('Growth rate', fontsize = 14, fontname = 'Times New Roman')\n",
    "plt.title(\"Real GDP Growth\\nSince 1980-2025\",fontsize = 16, fontname = 'Times New Roman' )\n",
    "\n",
    "plt.legend(loc = 'best', fontsize = 'large')\n",
    "\n",
    "plt.figtext(0.125, 0.02, 'Source = https://www.imf.org/external/datamapper/NGDP_RPCH@WEO')\n",
    "\n",
    "plt.xlim((1980,2025))\n",
    "plt.axhline(3, c ='k', ls = '--', alpha = 0.7)\n",
    "\n",
    "#plt.savefig('Iran GDP Growth IMF.jpg', dpi = 700)\n",
    "\n",
    "plt.show()"
   ]
  },
  {
   "cell_type": "code",
   "execution_count": 145,
   "metadata": {},
   "outputs": [
    {
     "data": {
      "text/html": [
       "<div>\n",
       "<style scoped>\n",
       "    .dataframe tbody tr th:only-of-type {\n",
       "        vertical-align: middle;\n",
       "    }\n",
       "\n",
       "    .dataframe tbody tr th {\n",
       "        vertical-align: top;\n",
       "    }\n",
       "\n",
       "    .dataframe thead th {\n",
       "        text-align: right;\n",
       "    }\n",
       "</style>\n",
       "<table border=\"1\" class=\"dataframe\">\n",
       "  <thead>\n",
       "    <tr style=\"text-align: right;\">\n",
       "      <th></th>\n",
       "      <th>Australia</th>\n",
       "      <th>Canada</th>\n",
       "      <th>China</th>\n",
       "      <th>Iran</th>\n",
       "      <th>Norway</th>\n",
       "      <th>Russian</th>\n",
       "      <th>United States</th>\n",
       "    </tr>\n",
       "    <tr>\n",
       "      <th>year</th>\n",
       "      <th></th>\n",
       "      <th></th>\n",
       "      <th></th>\n",
       "      <th></th>\n",
       "      <th></th>\n",
       "      <th></th>\n",
       "      <th></th>\n",
       "    </tr>\n",
       "  </thead>\n",
       "  <tbody>\n",
       "    <tr>\n",
       "      <th>1980</th>\n",
       "      <td>2.9</td>\n",
       "      <td>2.2</td>\n",
       "      <td>7.9</td>\n",
       "      <td>-18.8</td>\n",
       "      <td>4.5</td>\n",
       "      <td>NaN</td>\n",
       "      <td>-0.3</td>\n",
       "    </tr>\n",
       "    <tr>\n",
       "      <th>1981</th>\n",
       "      <td>4.1</td>\n",
       "      <td>3.5</td>\n",
       "      <td>5.1</td>\n",
       "      <td>-8.6</td>\n",
       "      <td>1.6</td>\n",
       "      <td>NaN</td>\n",
       "      <td>2.5</td>\n",
       "    </tr>\n",
       "    <tr>\n",
       "      <th>1982</th>\n",
       "      <td>0.1</td>\n",
       "      <td>-3.2</td>\n",
       "      <td>9.0</td>\n",
       "      <td>13.1</td>\n",
       "      <td>0.2</td>\n",
       "      <td>NaN</td>\n",
       "      <td>-1.8</td>\n",
       "    </tr>\n",
       "    <tr>\n",
       "      <th>1983</th>\n",
       "      <td>-0.5</td>\n",
       "      <td>2.6</td>\n",
       "      <td>10.8</td>\n",
       "      <td>13.8</td>\n",
       "      <td>4.0</td>\n",
       "      <td>NaN</td>\n",
       "      <td>4.6</td>\n",
       "    </tr>\n",
       "    <tr>\n",
       "      <th>1984</th>\n",
       "      <td>6.3</td>\n",
       "      <td>5.9</td>\n",
       "      <td>15.2</td>\n",
       "      <td>-9.9</td>\n",
       "      <td>6.1</td>\n",
       "      <td>NaN</td>\n",
       "      <td>7.2</td>\n",
       "    </tr>\n",
       "  </tbody>\n",
       "</table>\n",
       "</div>"
      ],
      "text/plain": [
       "      Australia  Canada  China  Iran  Norway  Russian  United States\n",
       "year                                                                \n",
       "1980        2.9     2.2    7.9 -18.8     4.5      NaN           -0.3\n",
       "1981        4.1     3.5    5.1  -8.6     1.6      NaN            2.5\n",
       "1982        0.1    -3.2    9.0  13.1     0.2      NaN           -1.8\n",
       "1983       -0.5     2.6   10.8  13.8     4.0      NaN            4.6\n",
       "1984        6.3     5.9   15.2  -9.9     6.1      NaN            7.2"
      ]
     },
     "execution_count": 145,
     "metadata": {},
     "output_type": "execute_result"
    }
   ],
   "source": [
    "growth.head()"
   ]
  },
  {
   "cell_type": "code",
   "execution_count": 148,
   "metadata": {},
   "outputs": [
    {
     "data": {
      "text/html": [
       "<div>\n",
       "<style scoped>\n",
       "    .dataframe tbody tr th:only-of-type {\n",
       "        vertical-align: middle;\n",
       "    }\n",
       "\n",
       "    .dataframe tbody tr th {\n",
       "        vertical-align: top;\n",
       "    }\n",
       "\n",
       "    .dataframe thead th {\n",
       "        text-align: right;\n",
       "    }\n",
       "</style>\n",
       "<table border=\"1\" class=\"dataframe\">\n",
       "  <thead>\n",
       "    <tr style=\"text-align: right;\">\n",
       "      <th></th>\n",
       "      <th>Australia</th>\n",
       "      <th>Canada</th>\n",
       "      <th>China</th>\n",
       "      <th>Iran</th>\n",
       "      <th>Norway</th>\n",
       "      <th>Russian</th>\n",
       "      <th>United States</th>\n",
       "    </tr>\n",
       "    <tr>\n",
       "      <th>year</th>\n",
       "      <th></th>\n",
       "      <th></th>\n",
       "      <th></th>\n",
       "      <th></th>\n",
       "      <th></th>\n",
       "      <th></th>\n",
       "      <th></th>\n",
       "    </tr>\n",
       "  </thead>\n",
       "  <tbody>\n",
       "    <tr>\n",
       "      <th>1980</th>\n",
       "      <td>2.9</td>\n",
       "      <td>2.2</td>\n",
       "      <td>7.9</td>\n",
       "      <td>-18.8</td>\n",
       "      <td>4.5</td>\n",
       "      <td>NaN</td>\n",
       "      <td>-0.3</td>\n",
       "    </tr>\n",
       "    <tr>\n",
       "      <th>1981</th>\n",
       "      <td>4.1</td>\n",
       "      <td>3.5</td>\n",
       "      <td>5.1</td>\n",
       "      <td>-8.6</td>\n",
       "      <td>1.6</td>\n",
       "      <td>NaN</td>\n",
       "      <td>2.5</td>\n",
       "    </tr>\n",
       "    <tr>\n",
       "      <th>1984</th>\n",
       "      <td>6.3</td>\n",
       "      <td>5.9</td>\n",
       "      <td>15.2</td>\n",
       "      <td>-9.9</td>\n",
       "      <td>6.1</td>\n",
       "      <td>NaN</td>\n",
       "      <td>7.2</td>\n",
       "    </tr>\n",
       "    <tr>\n",
       "      <th>1985</th>\n",
       "      <td>5.5</td>\n",
       "      <td>4.7</td>\n",
       "      <td>13.5</td>\n",
       "      <td>-2.1</td>\n",
       "      <td>5.6</td>\n",
       "      <td>NaN</td>\n",
       "      <td>4.2</td>\n",
       "    </tr>\n",
       "    <tr>\n",
       "      <th>1986</th>\n",
       "      <td>2.4</td>\n",
       "      <td>2.1</td>\n",
       "      <td>8.9</td>\n",
       "      <td>-9.0</td>\n",
       "      <td>4.0</td>\n",
       "      <td>NaN</td>\n",
       "      <td>3.5</td>\n",
       "    </tr>\n",
       "    <tr>\n",
       "      <th>1988</th>\n",
       "      <td>4.3</td>\n",
       "      <td>4.4</td>\n",
       "      <td>11.2</td>\n",
       "      <td>-9.5</td>\n",
       "      <td>-0.3</td>\n",
       "      <td>NaN</td>\n",
       "      <td>4.2</td>\n",
       "    </tr>\n",
       "    <tr>\n",
       "      <th>1994</th>\n",
       "      <td>4.9</td>\n",
       "      <td>4.5</td>\n",
       "      <td>13.0</td>\n",
       "      <td>-1.5</td>\n",
       "      <td>5.1</td>\n",
       "      <td>-12.7</td>\n",
       "      <td>4.0</td>\n",
       "    </tr>\n",
       "    <tr>\n",
       "      <th>1997</th>\n",
       "      <td>4.6</td>\n",
       "      <td>4.3</td>\n",
       "      <td>9.2</td>\n",
       "      <td>-0.5</td>\n",
       "      <td>5.3</td>\n",
       "      <td>1.4</td>\n",
       "      <td>4.4</td>\n",
       "    </tr>\n",
       "    <tr>\n",
       "      <th>2012</th>\n",
       "      <td>3.8</td>\n",
       "      <td>1.8</td>\n",
       "      <td>7.9</td>\n",
       "      <td>-7.4</td>\n",
       "      <td>2.7</td>\n",
       "      <td>4.0</td>\n",
       "      <td>2.2</td>\n",
       "    </tr>\n",
       "    <tr>\n",
       "      <th>2013</th>\n",
       "      <td>2.1</td>\n",
       "      <td>2.3</td>\n",
       "      <td>7.8</td>\n",
       "      <td>-0.2</td>\n",
       "      <td>1.0</td>\n",
       "      <td>1.8</td>\n",
       "      <td>1.8</td>\n",
       "    </tr>\n",
       "    <tr>\n",
       "      <th>2015</th>\n",
       "      <td>2.3</td>\n",
       "      <td>0.7</td>\n",
       "      <td>7.0</td>\n",
       "      <td>-1.3</td>\n",
       "      <td>2.0</td>\n",
       "      <td>-2.0</td>\n",
       "      <td>3.1</td>\n",
       "    </tr>\n",
       "    <tr>\n",
       "      <th>2018</th>\n",
       "      <td>2.8</td>\n",
       "      <td>2.4</td>\n",
       "      <td>6.7</td>\n",
       "      <td>-6.0</td>\n",
       "      <td>1.1</td>\n",
       "      <td>2.8</td>\n",
       "      <td>3.0</td>\n",
       "    </tr>\n",
       "    <tr>\n",
       "      <th>2019</th>\n",
       "      <td>1.9</td>\n",
       "      <td>1.9</td>\n",
       "      <td>5.8</td>\n",
       "      <td>-6.8</td>\n",
       "      <td>0.9</td>\n",
       "      <td>2.0</td>\n",
       "      <td>2.2</td>\n",
       "    </tr>\n",
       "  </tbody>\n",
       "</table>\n",
       "</div>"
      ],
      "text/plain": [
       "      Australia  Canada  China  Iran  Norway  Russian  United States\n",
       "year                                                                \n",
       "1980        2.9     2.2    7.9 -18.8     4.5      NaN           -0.3\n",
       "1981        4.1     3.5    5.1  -8.6     1.6      NaN            2.5\n",
       "1984        6.3     5.9   15.2  -9.9     6.1      NaN            7.2\n",
       "1985        5.5     4.7   13.5  -2.1     5.6      NaN            4.2\n",
       "1986        2.4     2.1    8.9  -9.0     4.0      NaN            3.5\n",
       "1988        4.3     4.4   11.2  -9.5    -0.3      NaN            4.2\n",
       "1994        4.9     4.5   13.0  -1.5     5.1    -12.7            4.0\n",
       "1997        4.6     4.3    9.2  -0.5     5.3      1.4            4.4\n",
       "2012        3.8     1.8    7.9  -7.4     2.7      4.0            2.2\n",
       "2013        2.1     2.3    7.8  -0.2     1.0      1.8            1.8\n",
       "2015        2.3     0.7    7.0  -1.3     2.0     -2.0            3.1\n",
       "2018        2.8     2.4    6.7  -6.0     1.1      2.8            3.0\n",
       "2019        1.9     1.9    5.8  -6.8     0.9      2.0            2.2"
      ]
     },
     "execution_count": 148,
     "metadata": {},
     "output_type": "execute_result"
    }
   ],
   "source": [
    "growth[growth.Iran < 0]"
   ]
  },
  {
   "cell_type": "code",
   "execution_count": 150,
   "metadata": {},
   "outputs": [
    {
     "data": {
      "text/plain": [
       "year\n",
       "1980   -18.8\n",
       "1981    -8.6\n",
       "1984    -9.9\n",
       "1985    -2.1\n",
       "1986    -9.0\n",
       "1988    -9.5\n",
       "1994    -1.5\n",
       "1997    -0.5\n",
       "2012    -7.4\n",
       "2013    -0.2\n",
       "2015    -1.3\n",
       "2018    -6.0\n",
       "2019    -6.8\n",
       "Name: Iran, dtype: float64"
      ]
     },
     "execution_count": 150,
     "metadata": {},
     "output_type": "execute_result"
    }
   ],
   "source": [
    "growth.Iran[growth.Iran < 0]"
   ]
  },
  {
   "cell_type": "code",
   "execution_count": 151,
   "metadata": {},
   "outputs": [
    {
     "data": {
      "text/html": [
       "<div>\n",
       "<style scoped>\n",
       "    .dataframe tbody tr th:only-of-type {\n",
       "        vertical-align: middle;\n",
       "    }\n",
       "\n",
       "    .dataframe tbody tr th {\n",
       "        vertical-align: top;\n",
       "    }\n",
       "\n",
       "    .dataframe thead th {\n",
       "        text-align: right;\n",
       "    }\n",
       "</style>\n",
       "<table border=\"1\" class=\"dataframe\">\n",
       "  <thead>\n",
       "    <tr style=\"text-align: right;\">\n",
       "      <th></th>\n",
       "      <th>Australia</th>\n",
       "      <th>Canada</th>\n",
       "      <th>China</th>\n",
       "      <th>Iran</th>\n",
       "      <th>Norway</th>\n",
       "      <th>Russian</th>\n",
       "      <th>United States</th>\n",
       "    </tr>\n",
       "  </thead>\n",
       "  <tbody>\n",
       "    <tr>\n",
       "      <th>count</th>\n",
       "      <td>47.000000</td>\n",
       "      <td>47.000000</td>\n",
       "      <td>47.000000</td>\n",
       "      <td>47.000000</td>\n",
       "      <td>47.000000</td>\n",
       "      <td>36.000000</td>\n",
       "      <td>47.000000</td>\n",
       "    </tr>\n",
       "    <tr>\n",
       "      <th>mean</th>\n",
       "      <td>2.953191</td>\n",
       "      <td>2.263830</td>\n",
       "      <td>8.808511</td>\n",
       "      <td>1.897872</td>\n",
       "      <td>2.402128</td>\n",
       "      <td>1.155556</td>\n",
       "      <td>2.517021</td>\n",
       "    </tr>\n",
       "    <tr>\n",
       "      <th>std</th>\n",
       "      <td>1.630931</td>\n",
       "      <td>2.214618</td>\n",
       "      <td>3.003753</td>\n",
       "      <td>6.935432</td>\n",
       "      <td>1.700702</td>\n",
       "      <td>5.816796</td>\n",
       "      <td>2.013684</td>\n",
       "    </tr>\n",
       "    <tr>\n",
       "      <th>min</th>\n",
       "      <td>-2.400000</td>\n",
       "      <td>-5.400000</td>\n",
       "      <td>2.300000</td>\n",
       "      <td>-18.800000</td>\n",
       "      <td>-1.700000</td>\n",
       "      <td>-14.500000</td>\n",
       "      <td>-3.500000</td>\n",
       "    </tr>\n",
       "    <tr>\n",
       "      <th>25%</th>\n",
       "      <td>2.400000</td>\n",
       "      <td>1.550000</td>\n",
       "      <td>6.900000</td>\n",
       "      <td>-0.350000</td>\n",
       "      <td>1.100000</td>\n",
       "      <td>-2.275000</td>\n",
       "      <td>1.650000</td>\n",
       "    </tr>\n",
       "    <tr>\n",
       "      <th>50%</th>\n",
       "      <td>2.800000</td>\n",
       "      <td>2.400000</td>\n",
       "      <td>8.500000</td>\n",
       "      <td>2.100000</td>\n",
       "      <td>2.100000</td>\n",
       "      <td>1.900000</td>\n",
       "      <td>2.700000</td>\n",
       "    </tr>\n",
       "    <tr>\n",
       "      <th>75%</th>\n",
       "      <td>4.150000</td>\n",
       "      <td>3.350000</td>\n",
       "      <td>10.800000</td>\n",
       "      <td>5.100000</td>\n",
       "      <td>3.750000</td>\n",
       "      <td>5.100000</td>\n",
       "      <td>3.750000</td>\n",
       "    </tr>\n",
       "    <tr>\n",
       "      <th>max</th>\n",
       "      <td>6.300000</td>\n",
       "      <td>5.900000</td>\n",
       "      <td>15.200000</td>\n",
       "      <td>18.100000</td>\n",
       "      <td>6.100000</td>\n",
       "      <td>10.000000</td>\n",
       "      <td>7.200000</td>\n",
       "    </tr>\n",
       "  </tbody>\n",
       "</table>\n",
       "</div>"
      ],
      "text/plain": [
       "       Australia     Canada      China       Iran     Norway    Russian  \\\n",
       "count  47.000000  47.000000  47.000000  47.000000  47.000000  36.000000   \n",
       "mean    2.953191   2.263830   8.808511   1.897872   2.402128   1.155556   \n",
       "std     1.630931   2.214618   3.003753   6.935432   1.700702   5.816796   \n",
       "min    -2.400000  -5.400000   2.300000 -18.800000  -1.700000 -14.500000   \n",
       "25%     2.400000   1.550000   6.900000  -0.350000   1.100000  -2.275000   \n",
       "50%     2.800000   2.400000   8.500000   2.100000   2.100000   1.900000   \n",
       "75%     4.150000   3.350000  10.800000   5.100000   3.750000   5.100000   \n",
       "max     6.300000   5.900000  15.200000  18.100000   6.100000  10.000000   \n",
       "\n",
       "       United States  \n",
       "count      47.000000  \n",
       "mean        2.517021  \n",
       "std         2.013684  \n",
       "min        -3.500000  \n",
       "25%         1.650000  \n",
       "50%         2.700000  \n",
       "75%         3.750000  \n",
       "max         7.200000  "
      ]
     },
     "execution_count": 151,
     "metadata": {},
     "output_type": "execute_result"
    }
   ],
   "source": [
    "growth.describe()"
   ]
  },
  {
   "cell_type": "code",
   "execution_count": 152,
   "metadata": {},
   "outputs": [
    {
     "data": {
      "text/plain": [
       "Australia        -2.4\n",
       "Canada           -5.4\n",
       "China             2.3\n",
       "Iran            -18.8\n",
       "Norway           -1.7\n",
       "Russian         -14.5\n",
       "United States    -3.5\n",
       "dtype: float64"
      ]
     },
     "execution_count": 152,
     "metadata": {},
     "output_type": "execute_result"
    }
   ],
   "source": [
    "growth.min()"
   ]
  },
  {
   "cell_type": "code",
   "execution_count": 153,
   "metadata": {},
   "outputs": [
    {
     "data": {
      "text/plain": [
       "Australia         6.3\n",
       "Canada            5.9\n",
       "China            15.2\n",
       "Iran             18.1\n",
       "Norway            6.1\n",
       "Russian          10.0\n",
       "United States     7.2\n",
       "dtype: float64"
      ]
     },
     "execution_count": 153,
     "metadata": {},
     "output_type": "execute_result"
    }
   ],
   "source": [
    "growth.max()"
   ]
  },
  {
   "cell_type": "code",
   "execution_count": 154,
   "metadata": {},
   "outputs": [
    {
     "data": {
      "text/plain": [
       "Australia        2.953191\n",
       "Canada           2.263830\n",
       "China            8.808511\n",
       "Iran             1.897872\n",
       "Norway           2.402128\n",
       "Russian          1.155556\n",
       "United States    2.517021\n",
       "dtype: float64"
      ]
     },
     "execution_count": 154,
     "metadata": {},
     "output_type": "execute_result"
    }
   ],
   "source": [
    "growth.mean()"
   ]
  },
  {
   "cell_type": "code",
   "execution_count": 156,
   "metadata": {},
   "outputs": [
    {
     "data": {
      "text/plain": [
       "1.897872340425531"
      ]
     },
     "execution_count": 156,
     "metadata": {},
     "output_type": "execute_result"
    }
   ],
   "source": [
    "growth.Iran.mean()"
   ]
  },
  {
   "cell_type": "code",
   "execution_count": 157,
   "metadata": {},
   "outputs": [
    {
     "data": {
      "text/plain": [
       "18.1"
      ]
     },
     "execution_count": 157,
     "metadata": {},
     "output_type": "execute_result"
    }
   ],
   "source": [
    "growth.Iran.max()"
   ]
  },
  {
   "cell_type": "code",
   "execution_count": 160,
   "metadata": {},
   "outputs": [
    {
     "data": {
      "text/html": [
       "<div>\n",
       "<style scoped>\n",
       "    .dataframe tbody tr th:only-of-type {\n",
       "        vertical-align: middle;\n",
       "    }\n",
       "\n",
       "    .dataframe tbody tr th {\n",
       "        vertical-align: top;\n",
       "    }\n",
       "\n",
       "    .dataframe thead th {\n",
       "        text-align: right;\n",
       "    }\n",
       "</style>\n",
       "<table border=\"1\" class=\"dataframe\">\n",
       "  <thead>\n",
       "    <tr style=\"text-align: right;\">\n",
       "      <th></th>\n",
       "      <th>Country</th>\n",
       "      <th>2020</th>\n",
       "    </tr>\n",
       "  </thead>\n",
       "  <tbody>\n",
       "    <tr>\n",
       "      <th>0</th>\n",
       "      <td>Afghanistan</td>\n",
       "      <td>-5.0</td>\n",
       "    </tr>\n",
       "    <tr>\n",
       "      <th>1</th>\n",
       "      <td>Albania</td>\n",
       "      <td>-3.5</td>\n",
       "    </tr>\n",
       "    <tr>\n",
       "      <th>2</th>\n",
       "      <td>Algeria</td>\n",
       "      <td>-6.0</td>\n",
       "    </tr>\n",
       "    <tr>\n",
       "      <th>3</th>\n",
       "      <td>Angola</td>\n",
       "      <td>-4.0</td>\n",
       "    </tr>\n",
       "    <tr>\n",
       "      <th>4</th>\n",
       "      <td>Antigua and Barbuda</td>\n",
       "      <td>-17.3</td>\n",
       "    </tr>\n",
       "  </tbody>\n",
       "</table>\n",
       "</div>"
      ],
      "text/plain": [
       "               Country  2020\n",
       "0          Afghanistan  -5.0\n",
       "1              Albania  -3.5\n",
       "2              Algeria  -6.0\n",
       "3               Angola  -4.0\n",
       "4  Antigua and Barbuda -17.3"
      ]
     },
     "execution_count": 160,
     "metadata": {},
     "output_type": "execute_result"
    }
   ],
   "source": [
    "growth_2020 = pd.read_excel('Real GDP Growth (IMF).xlsx', sheet_name=1)\n",
    "growth_2020.head()"
   ]
  },
  {
   "cell_type": "code",
   "execution_count": 161,
   "metadata": {},
   "outputs": [
    {
     "data": {
      "text/plain": [
       "(194, 2)"
      ]
     },
     "execution_count": 161,
     "metadata": {},
     "output_type": "execute_result"
    }
   ],
   "source": [
    "growth_2020.shape"
   ]
  },
  {
   "cell_type": "code",
   "execution_count": 162,
   "metadata": {},
   "outputs": [
    {
     "data": {
      "text/plain": [
       "Index(['Country', 2020], dtype='object')"
      ]
     },
     "execution_count": 162,
     "metadata": {},
     "output_type": "execute_result"
    }
   ],
   "source": [
    "growth_2020.columns"
   ]
  },
  {
   "cell_type": "code",
   "execution_count": 163,
   "metadata": {},
   "outputs": [
    {
     "data": {
      "text/plain": [
       "RangeIndex(start=0, stop=194, step=1)"
      ]
     },
     "execution_count": 163,
     "metadata": {},
     "output_type": "execute_result"
    }
   ],
   "source": [
    "growth_2020.index"
   ]
  },
  {
   "cell_type": "code",
   "execution_count": 164,
   "metadata": {},
   "outputs": [
    {
     "data": {
      "text/html": [
       "<div>\n",
       "<style scoped>\n",
       "    .dataframe tbody tr th:only-of-type {\n",
       "        vertical-align: middle;\n",
       "    }\n",
       "\n",
       "    .dataframe tbody tr th {\n",
       "        vertical-align: top;\n",
       "    }\n",
       "\n",
       "    .dataframe thead th {\n",
       "        text-align: right;\n",
       "    }\n",
       "</style>\n",
       "<table border=\"1\" class=\"dataframe\">\n",
       "  <thead>\n",
       "    <tr style=\"text-align: right;\">\n",
       "      <th></th>\n",
       "      <th>Country</th>\n",
       "      <th>2020</th>\n",
       "    </tr>\n",
       "  </thead>\n",
       "  <tbody>\n",
       "    <tr>\n",
       "      <th>70</th>\n",
       "      <td>Guyana</td>\n",
       "      <td>43.4</td>\n",
       "    </tr>\n",
       "    <tr>\n",
       "      <th>56</th>\n",
       "      <td>Ethiopia</td>\n",
       "      <td>6.1</td>\n",
       "    </tr>\n",
       "    <tr>\n",
       "      <th>68</th>\n",
       "      <td>Guinea</td>\n",
       "      <td>5.2</td>\n",
       "    </tr>\n",
       "    <tr>\n",
       "      <th>169</th>\n",
       "      <td>Tajikistan</td>\n",
       "      <td>4.5</td>\n",
       "    </tr>\n",
       "    <tr>\n",
       "      <th>13</th>\n",
       "      <td>Bangladesh</td>\n",
       "      <td>3.8</td>\n",
       "    </tr>\n",
       "    <tr>\n",
       "      <th>50</th>\n",
       "      <td>Egypt</td>\n",
       "      <td>3.6</td>\n",
       "    </tr>\n",
       "    <tr>\n",
       "      <th>118</th>\n",
       "      <td>Myanmar</td>\n",
       "      <td>3.2</td>\n",
       "    </tr>\n",
       "    <tr>\n",
       "      <th>168</th>\n",
       "      <td>Taiwan Province of China</td>\n",
       "      <td>3.1</td>\n",
       "    </tr>\n",
       "    <tr>\n",
       "      <th>189</th>\n",
       "      <td>Vietnam</td>\n",
       "      <td>2.9</td>\n",
       "    </tr>\n",
       "    <tr>\n",
       "      <th>80</th>\n",
       "      <td>Ireland</td>\n",
       "      <td>2.5</td>\n",
       "    </tr>\n",
       "    <tr>\n",
       "      <th>35</th>\n",
       "      <td>China, People's Republic of</td>\n",
       "      <td>2.3</td>\n",
       "    </tr>\n",
       "    <tr>\n",
       "      <th>44</th>\n",
       "      <td>Côte d'Ivoire</td>\n",
       "      <td>2.3</td>\n",
       "    </tr>\n",
       "    <tr>\n",
       "      <th>18</th>\n",
       "      <td>Benin</td>\n",
       "      <td>2.0</td>\n",
       "    </tr>\n",
       "    <tr>\n",
       "      <th>177</th>\n",
       "      <td>Turkey</td>\n",
       "      <td>1.8</td>\n",
       "    </tr>\n",
       "    <tr>\n",
       "      <th>186</th>\n",
       "      <td>Uzbekistan</td>\n",
       "      <td>1.6</td>\n",
       "    </tr>\n",
       "  </tbody>\n",
       "</table>\n",
       "</div>"
      ],
      "text/plain": [
       "                         Country  2020\n",
       "70                        Guyana  43.4\n",
       "56                      Ethiopia   6.1\n",
       "68                        Guinea   5.2\n",
       "169                   Tajikistan   4.5\n",
       "13                    Bangladesh   3.8\n",
       "50                         Egypt   3.6\n",
       "118                      Myanmar   3.2\n",
       "168     Taiwan Province of China   3.1\n",
       "189                      Vietnam   2.9\n",
       "80                       Ireland   2.5\n",
       "35   China, People's Republic of   2.3\n",
       "44                 Côte d'Ivoire   2.3\n",
       "18                         Benin   2.0\n",
       "177                       Turkey   1.8\n",
       "186                   Uzbekistan   1.6"
      ]
     },
     "execution_count": 164,
     "metadata": {},
     "output_type": "execute_result"
    }
   ],
   "source": [
    "largest = growth_2020.nlargest(15, 2020)\n",
    "largest"
   ]
  },
  {
   "cell_type": "code",
   "execution_count": 165,
   "metadata": {},
   "outputs": [
    {
     "data": {
      "text/html": [
       "<div>\n",
       "<style scoped>\n",
       "    .dataframe tbody tr th:only-of-type {\n",
       "        vertical-align: middle;\n",
       "    }\n",
       "\n",
       "    .dataframe tbody tr th {\n",
       "        vertical-align: top;\n",
       "    }\n",
       "\n",
       "    .dataframe thead th {\n",
       "        text-align: right;\n",
       "    }\n",
       "</style>\n",
       "<table border=\"1\" class=\"dataframe\">\n",
       "  <thead>\n",
       "    <tr style=\"text-align: right;\">\n",
       "      <th></th>\n",
       "      <th>Country</th>\n",
       "      <th>2020</th>\n",
       "    </tr>\n",
       "  </thead>\n",
       "  <tbody>\n",
       "    <tr>\n",
       "      <th>98</th>\n",
       "      <td>Libya</td>\n",
       "      <td>-59.7</td>\n",
       "    </tr>\n",
       "    <tr>\n",
       "      <th>101</th>\n",
       "      <td>Macao SAR</td>\n",
       "      <td>-56.3</td>\n",
       "    </tr>\n",
       "    <tr>\n",
       "      <th>105</th>\n",
       "      <td>Maldives</td>\n",
       "      <td>-32.2</td>\n",
       "    </tr>\n",
       "    <tr>\n",
       "      <th>188</th>\n",
       "      <td>Venezuela</td>\n",
       "      <td>-30.0</td>\n",
       "    </tr>\n",
       "    <tr>\n",
       "      <th>7</th>\n",
       "      <td>Aruba</td>\n",
       "      <td>-25.5</td>\n",
       "    </tr>\n",
       "    <tr>\n",
       "      <th>95</th>\n",
       "      <td>Lebanon</td>\n",
       "      <td>-25.0</td>\n",
       "    </tr>\n",
       "    <tr>\n",
       "      <th>57</th>\n",
       "      <td>Fiji</td>\n",
       "      <td>-19.0</td>\n",
       "    </tr>\n",
       "    <tr>\n",
       "      <th>145</th>\n",
       "      <td>Saint Lucia</td>\n",
       "      <td>-18.9</td>\n",
       "    </tr>\n",
       "    <tr>\n",
       "      <th>144</th>\n",
       "      <td>Saint Kitts and Nevis</td>\n",
       "      <td>-18.7</td>\n",
       "    </tr>\n",
       "    <tr>\n",
       "      <th>132</th>\n",
       "      <td>Panama</td>\n",
       "      <td>-17.9</td>\n",
       "    </tr>\n",
       "    <tr>\n",
       "      <th>14</th>\n",
       "      <td>Barbados</td>\n",
       "      <td>-17.6</td>\n",
       "    </tr>\n",
       "    <tr>\n",
       "      <th>4</th>\n",
       "      <td>Antigua and Barbuda</td>\n",
       "      <td>-17.3</td>\n",
       "    </tr>\n",
       "    <tr>\n",
       "      <th>11</th>\n",
       "      <td>Bahamas, The</td>\n",
       "      <td>-16.3</td>\n",
       "    </tr>\n",
       "    <tr>\n",
       "      <th>110</th>\n",
       "      <td>Mauritius</td>\n",
       "      <td>-15.8</td>\n",
       "    </tr>\n",
       "    <tr>\n",
       "      <th>115</th>\n",
       "      <td>Montenegro</td>\n",
       "      <td>-15.2</td>\n",
       "    </tr>\n",
       "  </tbody>\n",
       "</table>\n",
       "</div>"
      ],
      "text/plain": [
       "                   Country  2020\n",
       "98                   Libya -59.7\n",
       "101              Macao SAR -56.3\n",
       "105               Maldives -32.2\n",
       "188              Venezuela -30.0\n",
       "7                    Aruba -25.5\n",
       "95                 Lebanon -25.0\n",
       "57                    Fiji -19.0\n",
       "145            Saint Lucia -18.9\n",
       "144  Saint Kitts and Nevis -18.7\n",
       "132                 Panama -17.9\n",
       "14                Barbados -17.6\n",
       "4      Antigua and Barbuda -17.3\n",
       "11            Bahamas, The -16.3\n",
       "110              Mauritius -15.8\n",
       "115             Montenegro -15.2"
      ]
     },
     "execution_count": 165,
     "metadata": {},
     "output_type": "execute_result"
    }
   ],
   "source": [
    "smallest = growth_2020.nsmallest(15, 2020)\n",
    "smallest"
   ]
  },
  {
   "cell_type": "code",
   "execution_count": 166,
   "metadata": {},
   "outputs": [
    {
     "data": {
      "text/plain": [
       "70     43.4\n",
       "56      6.1\n",
       "68      5.2\n",
       "169     4.5\n",
       "13      3.8\n",
       "50      3.6\n",
       "118     3.2\n",
       "168     3.1\n",
       "189     2.9\n",
       "80      2.5\n",
       "35      2.3\n",
       "44      2.3\n",
       "18      2.0\n",
       "177     1.8\n",
       "186     1.6\n",
       "Name: 2020, dtype: float64"
      ]
     },
     "execution_count": 166,
     "metadata": {},
     "output_type": "execute_result"
    }
   ],
   "source": [
    "largest[2020]"
   ]
  },
  {
   "cell_type": "code",
   "execution_count": 179,
   "metadata": {},
   "outputs": [
    {
     "data": {
      "image/png": "[encoded data removed]",
      "text/plain": [
       "<Figure size 1080x504 with 1 Axes>"
      ]
     },
     "metadata": {
      "needs_background": "light"
     },
     "output_type": "display_data"
    }
   ],
   "source": [
    "plt.figure(figsize=(15,7))\n",
    "plt.barh(largest.Country, largest[2020], \n",
    "       color = 'orange', \n",
    "       edgecolor = 'black')\n",
    "\n",
    "plt.gca().invert_yaxis()\n",
    "\n",
    "plt.grid(ls = '--', c = 'gray', axis = 'x')\n",
    "plt.xlabel('Growth rate', fontsize = 14, fontname = 'Times New Roman')\n",
    "plt.ylabel('Country', fontsize = 14, fontname = 'Times New Roman')\n",
    "plt.title(\"Real GDP Growth Rankinf\\nin 2020\",fontsize = 16, fontname = 'Times New Roman' )\n",
    "\n",
    "\n",
    "plt.figtext(0.125, 0.02, 'Source = https://www.imf.org/external/datamapper/NGDP_RPCH@WEO')\n",
    "\n",
    "plt.show()"
   ]
  },
  {
   "cell_type": "code",
   "execution_count": 181,
   "metadata": {},
   "outputs": [
    {
     "data": {
      "image/png": "[encoded data removed]",
      "text/plain": [
       "<Figure size 1080x504 with 1 Axes>"
      ]
     },
     "metadata": {
      "needs_background": "light"
     },
     "output_type": "display_data"
    }
   ],
   "source": [
    "plt.figure(figsize=(15,7))\n",
    "plt.barh(smallest.Country, smallest[2020], \n",
    "       color = 'orange', \n",
    "       edgecolor = 'black')\n",
    "\n",
    "plt.gca().invert_yaxis()\n",
    "plt.gca().invert_xaxis()\n",
    "\n",
    "plt.grid(ls = '--', c = 'gray', axis = 'x')\n",
    "plt.xlabel('Growth rate', fontsize = 14, fontname = 'Times New Roman')\n",
    "plt.ylabel('Country', fontsize = 14, fontname = 'Times New Roman')\n",
    "plt.title(\"Real GDP Growth Rankinf\\nin 2020\",fontsize = 16, fontname = 'Times New Roman' )\n",
    "\n",
    "\n",
    "plt.figtext(0.125, 0.02, 'Source = https://www.imf.org/external/datamapper/NGDP_RPCH@WEO')\n",
    "\n",
    "plt.show()"
   ]
  },
  {
   "cell_type": "code",
   "execution_count": null,
   "metadata": {},
   "outputs": [],
   "source": []
  },
  {
   "cell_type": "markdown",
   "metadata": {},
   "source": [
    "### - GDP per capita, current prices (Purchasing power parity; international dollars per capita) (IMF)\n",
    "<b> Source:  [International Monetary Fund (IMF)](https://www.imf.org/external/datamapper/PPPPC@WEO/OEMDC/ADVEC/WEOWORLD)"
   ]
  },
  {
   "cell_type": "code",
   "execution_count": null,
   "metadata": {},
   "outputs": [],
   "source": []
  },
  {
   "cell_type": "markdown",
   "metadata": {},
   "source": [
    "## Directory"
   ]
  },
  {
   "cell_type": "code",
   "execution_count": 97,
   "metadata": {},
   "outputs": [],
   "source": [
    "import os"
   ]
  },
  {
   "cell_type": "markdown",
   "metadata": {},
   "source": [
    "### - Current Directory"
   ]
  },
  {
   "cell_type": "code",
   "execution_count": 98,
   "metadata": {},
   "outputs": [
    {
     "data": {
      "text/plain": [
       "'/Users/saeed/Documents/GitHub/Intro-Py-for-Econ-workshop-Sum2022/Lectures'"
      ]
     },
     "execution_count": 98,
     "metadata": {},
     "output_type": "execute_result"
    }
   ],
   "source": [
    "os.getcwd()"
   ]
  },
  {
   "cell_type": "markdown",
   "metadata": {},
   "source": [
    "### - Change Directory"
   ]
  },
  {
   "cell_type": "code",
   "execution_count": 101,
   "metadata": {},
   "outputs": [],
   "source": [
    "#os.chdir(\"/Users/saeed/Documents/Work/Python Courses Contents\")\n",
    "os.chdir('/Users/saeed/Documents/GitHub/Intro-Py-for-Econ-workshop-Sum2022/Lectures')"
   ]
  },
  {
   "cell_type": "code",
   "execution_count": 102,
   "metadata": {},
   "outputs": [
    {
     "data": {
      "text/plain": [
       "'/Users/saeed/Documents/GitHub/Intro-Py-for-Econ-workshop-Sum2022/Lectures'"
      ]
     },
     "execution_count": 102,
     "metadata": {},
     "output_type": "execute_result"
    }
   ],
   "source": [
    "os.getcwd()"
   ]
  },
  {
   "cell_type": "markdown",
   "metadata": {},
   "source": [
    "### - List of Files in Directory"
   ]
  },
  {
   "cell_type": "code",
   "execution_count": 103,
   "metadata": {},
   "outputs": [
    {
     "data": {
      "text/plain": [
       "['5. Matplotlib.ipynb',\n",
       " 'survey_results_public.csv',\n",
       " '.DS_Store',\n",
       " '1. Introduction to Python (Data Structure).ipynb',\n",
       " 'GDP per capita ppp 2021.xlsx',\n",
       " 'Real GDP Growth (IMF).xlsx',\n",
       " '3. Functions.ipynb',\n",
       " 'README.md',\n",
       " '6. Pandas 01.ipynb',\n",
       " '2. Control flow (Loops).ipynb',\n",
       " '7. Pandas 02.ipynb',\n",
       " 'Human development index (HDI).xlsx',\n",
       " '.ipynb_checkpoints',\n",
       " 'test_1.jpg',\n",
       " '0. Intro Py for Econ UT Workshop Sum 2022.pdf',\n",
       " '4. NumPy.ipynb']"
      ]
     },
     "execution_count": 103,
     "metadata": {},
     "output_type": "execute_result"
    }
   ],
   "source": [
    "os.listdir()"
   ]
  }
 ],
 "metadata": {
  "kernelspec": {
   "display_name": "Python 3",
   "language": "python",
   "name": "python3"
  },
  "language_info": {
   "codemirror_mode": {
    "name": "ipython",
    "version": 3
   },
   "file_extension": ".py",
   "mimetype": "text/x-python",
   "name": "python",
   "nbconvert_exporter": "python",
   "pygments_lexer": "ipython3",
   "version": "3.8.8"
  }
 },
 "nbformat": 4,
 "nbformat_minor": 2
}
